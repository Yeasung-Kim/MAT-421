{
  "nbformat": 4,
  "nbformat_minor": 0,
  "metadata": {
    "colab": {
      "private_outputs": true,
      "provenance": [],
      "authorship_tag": "ABX9TyN9nzzVeNg2DLXoH248JkjI",
      "include_colab_link": true
    },
    "kernelspec": {
      "name": "python3",
      "display_name": "Python 3"
    },
    "language_info": {
      "name": "python"
    }
  },
  "cells": [
    {
      "cell_type": "markdown",
      "metadata": {
        "id": "view-in-github",
        "colab_type": "text"
      },
      "source": [
        "<a href=\"https://colab.research.google.com/github/Yeasung-Kim/MAT-421/blob/main/HW_1.ipynb\" target=\"_parent\"><img src=\"https://colab.research.google.com/assets/colab-badge.svg\" alt=\"Open In Colab\"/></a>"
      ]
    },
    {
      "cell_type": "markdown",
      "source": [
        "# HW1 - Yeasung Kim\n",
        "\n",
        "## 9.1 Base-N and Binary\n",
        "\n",
        "### Math Explanation\n",
        "The **Base-N system** represents numbers using `N` unique digits, starting from `0` up to `N-1`. For example:\n",
        "- **Base-10 (Decimal)**: Uses digits 0-9.\n",
        "- **Base-2 (Binary)**: Uses digits 0 and 1. Essential in computing since computers use binary logic.\n",
        "\n",
        "#### Decimal to Binary Conversion:\n",
        "1. Divide the decimal number by 2 and note the remainder.\n",
        "2. Repeat the division with the quotient until it becomes 0.\n",
        "3. The binary representation is the sequence of remainders read in reverse order.\n",
        "\n",
        "#### Binary to Decimal Conversion:\n",
        "1. Multiply each binary digit by `2^position` (rightmost position = 0).\n",
        "2. Add all these values together to get the decimal number.\n"
      ],
      "metadata": {
        "id": "GLZ9erW7NZdz"
      }
    },
    {
      "cell_type": "markdown",
      "source": [
        "### Examples:\n",
        "#### Example 1: Decimal to Binary\n",
        "\n"
      ],
      "metadata": {
        "id": "5imV_HPQNczN"
      }
    },
    {
      "cell_type": "code",
      "source": [
        "# Function to convert a decimal number to binary representation\n",
        "def decimal_to_binary(decimal_number):\n",
        "    \"\"\"\n",
        "    Converts a decimal number to binary representation.\n",
        "    Args:\n",
        "        decimal_number (int): Number in base-10.\n",
        "    Returns:\n",
        "        str: Binary representation of the number.\n",
        "    \"\"\"\n",
        "    binary_result = \"\"\n",
        "    while decimal_number > 0:\n",
        "        remainder = decimal_number % 2\n",
        "        binary_result = str(remainder) + binary_result\n",
        "        decimal_number //= 2\n",
        "    return binary_result"
      ],
      "metadata": {
        "id": "VZ69xK-1Nldo"
      },
      "execution_count": null,
      "outputs": []
    },
    {
      "cell_type": "code",
      "source": [
        "# Example usage\n",
        "decimal_number = 42\n",
        "binary_representation = decimal_to_binary(decimal_number)\n",
        "print(f\"Decimal {decimal_number} in binary is {binary_representation}.\")"
      ],
      "metadata": {
        "id": "FDNSrD57Nz3n"
      },
      "execution_count": null,
      "outputs": []
    },
    {
      "cell_type": "markdown",
      "source": [
        "#### Example 2: Binary to Decimal"
      ],
      "metadata": {
        "id": "CQPyRG1tN5uu"
      }
    },
    {
      "cell_type": "code",
      "source": [
        "# Function to convert binary string to decimal number\n",
        "def binary_to_decimal(binary_string):\n",
        "    \"\"\"\n",
        "    Converts a binary string to its decimal equivalent.\n",
        "    Args:\n",
        "        binary_string (str): Binary number as a string.\n",
        "    Returns:\n",
        "        int: Decimal equivalent.\n",
        "    \"\"\"\n",
        "    decimal_result = 0\n",
        "    for index, digit in enumerate(binary_string[::-1]):\n",
        "        decimal_result += int(digit) * (2 ** index)\n",
        "    return decimal_result\n",
        "\n",
        "# Example usage\n",
        "binary_string = \"101010\"\n",
        "decimal_value = binary_to_decimal(binary_string)\n",
        "print(f\"Binary {binary_string} in decimal is {decimal_value}.\")"
      ],
      "metadata": {
        "id": "kCenJB02N9WY"
      },
      "execution_count": null,
      "outputs": []
    },
    {
      "cell_type": "markdown",
      "source": [
        "#### Advanced Example: Base-8 (Octal) to Base-2 (Binary)"
      ],
      "metadata": {
        "id": "CtjpzD4DOCAS"
      }
    },
    {
      "cell_type": "code",
      "source": [
        "# Function to convert an octal number to binary\n",
        "def octal_to_binary(octal_number):\n",
        "    \"\"\"\n",
        "    Converts an octal number to its binary equivalent.\n",
        "    Args:\n",
        "        octal_number (int): Octal number.\n",
        "    Returns:\n",
        "        str: Binary equivalent.\n",
        "    \"\"\"\n",
        "    decimal_number = int(str(octal_number), 8)\n",
        "    return decimal_to_binary(decimal_number)\n",
        "\n",
        "# Example usage\n",
        "octal_number = 52\n",
        "binary_representation = octal_to_binary(octal_number)\n",
        "print(f\"Octal {octal_number} in binary is {binary_representation}.\")\n",
        "\n"
      ],
      "metadata": {
        "id": "HsJM6OK_OC1E"
      },
      "execution_count": null,
      "outputs": []
    },
    {
      "cell_type": "markdown",
      "source": [
        "## 9.2 Floating Point Numbers\n",
        "\n",
        "### Math Explanation\n",
        "Floating-point numbers allow efficient representation of real numbers. They are stored using:\n",
        "- **Sign bit**: Determines if the number is positive or negative.\n",
        "- **Exponent**: Indicates the scale (large or small).\n",
        "- **Mantissa**: Stores the significant digits.\n",
        "\n",
        "Due to limited memory, floating-point operations are approximate and subject to rounding errors.\n"
      ],
      "metadata": {
        "id": "6DyFhducOIH2"
      }
    },
    {
      "cell_type": "markdown",
      "source": [
        "### Examples:\n",
        "#### Example 1: Floating-Point Representation"
      ],
      "metadata": {
        "id": "NvJORHq6OJya"
      }
    },
    {
      "cell_type": "code",
      "source": [
        "# Demonstrating floating-point representation\n",
        "def floating_point_example():\n",
        "    \"\"\"\n",
        "    Showcases floating-point representation and precision.\n",
        "    \"\"\"\n",
        "    a = 1.0\n",
        "    b = 3.0\n",
        "    result = a / b\n",
        "    print(f\"1 divided by 3 is approximately {result}\")\n",
        "\n",
        "floating_point_example()"
      ],
      "metadata": {
        "id": "KIkyf0EmOL3b"
      },
      "execution_count": null,
      "outputs": []
    },
    {
      "cell_type": "markdown",
      "source": [
        "#### Example 2: Loss of Precision"
      ],
      "metadata": {
        "id": "bBFeD0uLOQTP"
      }
    },
    {
      "cell_type": "code",
      "source": [
        "# Demonstrating loss of precision in floating-point arithmetic\n",
        "def floating_point_loss_example():\n",
        "    \"\"\"\n",
        "    Illustrates precision loss in arithmetic operations.\n",
        "    \"\"\"\n",
        "    a = 0.1 + 0.2\n",
        "    print(f\"0.1 + 0.2 is approximately {a}, but not exactly 0.3\")\n",
        "\n",
        "floating_point_loss_example()"
      ],
      "metadata": {
        "id": "T35q1nUROU5G"
      },
      "execution_count": null,
      "outputs": []
    },
    {
      "cell_type": "markdown",
      "source": [
        "## 9.3 Round-off Errors\n",
        "\n",
        "### Math Explanation\n",
        "Round-off errors occur when numbers cannot be represented exactly in the available precision. These errors can accumulate in computations.\n"
      ],
      "metadata": {
        "id": "MCgDcXQXOjDx"
      }
    },
    {
      "cell_type": "markdown",
      "source": [
        "### Examples:\n",
        "#### Example 1: Accumulated Round-off Errors"
      ],
      "metadata": {
        "id": "uJstpD1IOnH9"
      }
    },
    {
      "cell_type": "code",
      "source": [
        "# Demonstrating accumulated round-off errors\n",
        "def round_off_error_accumulation():\n",
        "    \"\"\"\n",
        "    Shows how round-off errors accumulate over multiple operations.\n",
        "    \"\"\"\n",
        "    n = 10**6\n",
        "    small_increment = 1e-6\n",
        "    total = 0.0\n",
        "    for _ in range(n):\n",
        "        total += small_increment\n",
        "    expected = n * small_increment\n",
        "    print(f\"Expected total: {expected}, Actual total: {total}\")\n",
        "\n",
        "round_off_error_accumulation()"
      ],
      "metadata": {
        "id": "kW5K8PLuOoon"
      },
      "execution_count": null,
      "outputs": []
    },
    {
      "cell_type": "markdown",
      "source": [
        "#### Example 2: Catastrophic Cancellation"
      ],
      "metadata": {
        "id": "KAgLRj37OsCV"
      }
    },
    {
      "cell_type": "code",
      "source": [
        "# Demonstrating catastrophic cancellation\n",
        "def catastrophic_cancellation():\n",
        "    \"\"\"\n",
        "    Illustrates significant loss of precision when subtracting nearly equal numbers.\n",
        "    \"\"\"\n",
        "    a = 1.0000001\n",
        "    b = 1.0000000\n",
        "    result = a - b\n",
        "    print(f\"The result of {a} - {b} is {result}\")\n",
        "\n",
        "catastrophic_cancellation()"
      ],
      "metadata": {
        "id": "2Nv_7FI_Ot8p"
      },
      "execution_count": null,
      "outputs": []
    }
  ]
}