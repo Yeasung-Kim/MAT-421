{
  "nbformat": 4,
  "nbformat_minor": 0,
  "metadata": {
    "colab": {
      "private_outputs": true,
      "provenance": [],
      "authorship_tag": "ABX9TyOnuv5MRZF1lIhJHDbVQbCx",
      "include_colab_link": true
    },
    "kernelspec": {
      "name": "python3",
      "display_name": "Python 3"
    },
    "language_info": {
      "name": "python"
    }
  },
  "cells": [
    {
      "cell_type": "markdown",
      "metadata": {
        "id": "view-in-github",
        "colab_type": "text"
      },
      "source": [
        "<a href=\"https://colab.research.google.com/github/Yeasung-Kim/MAT-421/blob/main/HW_10.ipynb\" target=\"_parent\"><img src=\"https://colab.research.google.com/assets/colab-badge.svg\" alt=\"Open In Colab\"/></a>"
      ]
    },
    {
      "cell_type": "markdown",
      "source": [
        "# Numerical Error and Instability\n",
        "\n",
        "## Introduction\n",
        "\n",
        "When solving ordinary differential equations (ODEs) numerically, two important properties are **accuracy** and **stability**.\n",
        "\n",
        "- **Accuracy**: How close the numerical solution is to the exact solution.\n",
        "- **Stability**: Whether errors grow uncontrollably as we step forward in time.\n",
        "\n",
        "An unstable method can cause wrong results even if the method is accurate for small steps.\n",
        "\n",
        "We will explore these by solving a simple pendulum ODE using:\n",
        "- **Euler Explicit Method**\n",
        "- **Euler Implicit Method**\n",
        "- **Trapezoidal Method**\n",
        "\n",
        "Let's solve the pendulum equation and compare the methods.\n"
      ],
      "metadata": {
        "id": "WJm3ZvVuHpQ9"
      }
    },
    {
      "cell_type": "code",
      "source": [
        "# Import libraries\n",
        "import numpy as np\n",
        "from numpy.linalg import inv\n",
        "import matplotlib.pyplot as plt\n",
        "\n",
        "# Set matplotlib style (corrected!)\n",
        "plt.style.use('classic')\n",
        "\n",
        "# Define step size and time grid\n",
        "h = 0.1\n",
        "t = np.arange(0, 5.1, h)\n",
        "\n",
        "# Oscillation frequency of pendulum\n",
        "w = 4\n",
        "\n",
        "# Initial condition\n",
        "s0 = np.array([[1], [0]])\n",
        "\n",
        "# Matrices for each method\n",
        "m_e = np.array([[1, h], [-w**2 * h, 1]])\n",
        "m_i = inv(np.array([[1, -h], [w**2 * h, 1]]))\n",
        "m_t = np.dot(inv(np.array([[1, -h/2], [w**2 * h/2, 1]])), np.array([[1, h/2], [-w**2 * h/2, 1]]))\n",
        "\n",
        "# Initialize solutions\n",
        "s_e = np.zeros((len(t), 2))\n",
        "s_i = np.zeros((len(t), 2))\n",
        "s_t = np.zeros((len(t), 2))\n",
        "\n",
        "# Set initial conditions\n",
        "s_e[0, :] = s0.T\n",
        "s_i[0, :] = s0.T\n",
        "s_t[0, :] = s0.T\n",
        "\n",
        "# Perform integrations\n",
        "for j in range(0, len(t)-1):\n",
        "    s_e[j+1, :] = np.dot(m_e, s_e[j, :])\n",
        "    s_i[j+1, :] = np.dot(m_i, s_i[j, :])\n",
        "    s_t[j+1, :] = np.dot(m_t, s_t[j, :])\n",
        "\n",
        "# Plot the results\n",
        "plt.figure(figsize=(12, 8))\n",
        "plt.plot(t, s_e[:, 0], 'b-', label='Explicit Euler')\n",
        "plt.plot(t, s_i[:, 0], 'g:', label='Implicit Euler')\n",
        "plt.plot(t, s_t[:, 0], 'r--', label='Trapezoidal')\n",
        "plt.plot(t, np.cos(w*t), 'k', label='Exact Solution')\n",
        "\n",
        "plt.ylim(-3, 3)\n",
        "plt.xlabel('t')\n",
        "plt.ylabel(r'$\\Theta(t)$')\n",
        "plt.legend()\n",
        "plt.title('Comparison of Numerical Methods for Pendulum')\n",
        "plt.grid(True)\n",
        "plt.show()\n"
      ],
      "metadata": {
        "id": "IGZl0I6PHxCl"
      },
      "execution_count": null,
      "outputs": []
    },
    {
      "cell_type": "markdown",
      "source": [
        "### Discussion\n",
        "- **Explicit Euler**: Unstable — the error grows fast.\n",
        "- **Implicit Euler**: Overly damped — decays too quickly.\n",
        "- **Trapezoidal**: Most accurate, follows the exact solution well."
      ],
      "metadata": {
        "id": "ND65ern7IY5u"
      }
    },
    {
      "cell_type": "markdown",
      "source": [
        "# Predictor-Corrector Methods\n",
        "\n",
        "## Introduction\n",
        "\n",
        "**Predictor-Corrector methods** improve the accuracy by predicting an intermediate step and then correcting it.\n",
        "\n",
        "A simple predictor-corrector pair is:\n",
        "- **Predictor**: Euler Method (predict halfway)\n",
        "- **Corrector**: Midpoint Method\n",
        "\n",
        "## Midpoint Predictor-Corrector Example\n",
        "Let's solve a simple ODE:\n",
        "\n",
        "$$ \\frac{dy}{dt} = -2y $$\n",
        "\n",
        "with initial condition $( y(0) = 1 $).\n",
        "\n",
        "The exact solution is $( y(t) = e^{-2t} $)."
      ],
      "metadata": {
        "id": "GaPlRzGhIZt6"
      }
    },
    {
      "cell_type": "code",
      "source": [
        "# ODE function\n",
        "def f(t, y):\n",
        "    return -2 * y\n",
        "\n",
        "# Time grid\n",
        "h = 0.1\n",
        "t = np.arange(0, 5+h, h)\n",
        "\n",
        "# Initialize solution\n",
        "y = np.zeros(len(t))\n",
        "y[0] = 1\n",
        "\n",
        "# Predictor-Corrector method\n",
        "for i in range(len(t)-1):\n",
        "    y_pred = y[i] + h/2 * f(t[i], y[i])   # predictor step\n",
        "    y[i+1] = y[i] + h * f(t[i] + h/2, y_pred)  # corrector step\n",
        "\n",
        "# Exact solution\n",
        "y_exact = np.exp(-2*t)\n",
        "\n",
        "# Plot the results\n",
        "plt.figure(figsize=(10, 6))\n",
        "plt.plot(t, y, 'o-', label='Predictor-Corrector')\n",
        "plt.plot(t, y_exact, 'k--', label='Exact Solution')\n",
        "plt.xlabel('t')\n",
        "plt.ylabel('y(t)')\n",
        "plt.title('Predictor-Corrector Method vs Exact Solution')\n",
        "plt.legend()\n",
        "plt.grid(True)\n",
        "plt.show()"
      ],
      "metadata": {
        "id": "PdwRmzVIIeEU"
      },
      "execution_count": null,
      "outputs": []
    },
    {
      "cell_type": "markdown",
      "source": [
        "### Discussion\n",
        "- The predictor-corrector method produces a much more accurate result than simple Euler integration.\n",
        "- It corrects the initial prediction using information about the slope halfway through the interval."
      ],
      "metadata": {
        "id": "M32tm2S5Ig22"
      }
    },
    {
      "cell_type": "markdown",
      "source": [
        "# Summary\n",
        "\n",
        "- **Numerical Error and Instability**: Different methods behave differently in terms of stability and accuracy.\n",
        "- **Predictor-Corrector Methods**: Improve accuracy by predicting and correcting each step.\n",
        "\n"
      ],
      "metadata": {
        "id": "R-Reg6IrIi9b"
      }
    }
  ]
}