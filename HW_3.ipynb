{
  "nbformat": 4,
  "nbformat_minor": 0,
  "metadata": {
    "colab": {
      "private_outputs": true,
      "provenance": [],
      "authorship_tag": "ABX9TyNmvuEr3s7WH3ogDLkNdXeJ",
      "include_colab_link": true
    },
    "kernelspec": {
      "name": "python3",
      "display_name": "Python 3"
    },
    "language_info": {
      "name": "python"
    }
  },
  "cells": [
    {
      "cell_type": "markdown",
      "metadata": {
        "id": "view-in-github",
        "colab_type": "text"
      },
      "source": [
        "<a href=\"https://colab.research.google.com/github/Yeasung-Kim/MAT-421/blob/main/HW_3.ipynb\" target=\"_parent\"><img src=\"https://colab.research.google.com/assets/colab-badge.svg\" alt=\"Open In Colab\"/></a>"
      ]
    },
    {
      "cell_type": "markdown",
      "source": [
        "# Explanation of Lagrange Polynomial Interpolation\n",
        "\n",
        "Lagrange Polynomial Interpolation is a method used to construct a unique polynomial that passes through a given set of data points.\n",
        "It is particularly useful for approximating functions when we only have discrete data points and do not know the explicit function.\n",
        "\n",
        "### Mathematical Formulation:\n",
        "The Lagrange polynomial is expressed as:\n",
        "\n",
        "L(x) = sum( yi * Li(x) ) for i = 0 to n\n",
        "\n",
        "where Li(x) are the Lagrange basis polynomials defined as:\n",
        "\n",
        "Li(x) = product((x - xj) / (xi - xj)) for all j != i\n",
        "\n",
        "Each basis polynomial Li(x) is designed to be 1 at xi and 0 at all other xj. This ensures that L(x) interpolates the given data points exactly.\n",
        "\n",
        "### Advantages of Lagrange Interpolation:\n",
        "- Simple to understand and implement.\n",
        "- No need to solve a system of equations.\n",
        "- Works well for small datasets.\n",
        "\n",
        "### Disadvantages:\n",
        "- Computationally expensive for large datasets as the degree of the polynomial increases.\n",
        "- The polynomial oscillates significantly for large numbers of points (Runge's phenomenon).\n"
      ],
      "metadata": {
        "id": "aoHBPdc2fdYc"
      }
    },
    {
      "cell_type": "code",
      "source": [
        "import numpy as np\n",
        "import matplotlib.pyplot as plt\n",
        "from scipy.interpolate import lagrange\n",
        "!pip install seaborn\n",
        "import seaborn as sns\n",
        "sns.set_context(\"poster\")  # This achieves a similar effect"
      ],
      "metadata": {
        "id": "wzBC4KucfocI"
      },
      "execution_count": null,
      "outputs": []
    },
    {
      "cell_type": "code",
      "source": [
        "def lagrange_interpolation(x, y):\n",
        "    \"\"\"Compute and plot the Lagrange interpolation polynomial.\"\"\"\n",
        "    poly = lagrange(x, y)\n",
        "    x_new = np.linspace(min(x), max(x), 100)\n",
        "    y_new = poly(x_new)\n",
        "\n",
        "    plt.figure(figsize=(10, 6))\n",
        "    plt.plot(x, y, 'ro', label='Data points')\n",
        "    plt.plot(x_new, y_new, 'b-', label='Lagrange Polynomial')\n",
        "    plt.xlabel('x')\n",
        "    plt.ylabel('y')\n",
        "    plt.title('Lagrange Polynomial Interpolation')\n",
        "    plt.legend()\n",
        "    plt.grid()\n",
        "    plt.savefig(\"lagrange_plot.png\")  # Save the plot as an image\n",
        "    plt.show()\n",
        "\n",
        "    return poly\n",
        "\n",
        "# Example for Lagrange Interpolation\n",
        "x_points = np.array([0, 1, 2, 3])\n",
        "y_points = np.array([1, 3, 2, 5])\n",
        "lagrange_poly = lagrange_interpolation(x_points, y_points)"
      ],
      "metadata": {
        "id": "HPvkmTPsft0a"
      },
      "execution_count": null,
      "outputs": []
    },
    {
      "cell_type": "markdown",
      "source": [
        "# Explanation of Newton's Polynomial Interpolation\n",
        "Newton’s Polynomial Interpolation provides an alternative way to interpolate data points using divided differences.\n",
        "This approach is particularly useful because it allows us to incrementally add data points without recomputing the entire polynomial.\n",
        "\n",
        "### Mathematical Formulation:\n",
        "The Newton polynomial is given by:\n",
        "\n",
        "P(x) = a0 + a1(x - x0) + a2(x - x0)(x - x1) + ... + an(x - x0)(x - x1)...(x - xn-1)\n",
        "\n",
        "where the coefficients ai are computed using the divided difference method:\n",
        "\n",
        "f[xi, ..., xj] = ( f[xi+1, ..., xj] - f[xi, ..., xj-1] ) / (xj - xi)\n",
        "\n",
        "### Advantages of Newton’s Interpolation:\n",
        "- More efficient than Lagrange interpolation when adding new data points.\n",
        "- Uses divided difference tables, reducing redundant calculations.\n",
        "\n",
        "### Disadvantages:\n",
        "- Like Lagrange, it suffers from oscillations when interpolating high-degree polynomials over large intervals.\n",
        "- The complexity increases with large datasets.\n"
      ],
      "metadata": {
        "id": "EI_ogwg1gdWv"
      }
    },
    {
      "cell_type": "code",
      "source": [
        "def divided_diff(x, y):\n",
        "    \"\"\"Compute the divided difference coefficients for Newton's interpolation.\"\"\"\n",
        "    n = len(y)\n",
        "    coef = np.zeros([n, n])\n",
        "    coef[:, 0] = y\n",
        "\n",
        "    for j in range(1, n):\n",
        "        for i in range(n - j):\n",
        "            coef[i, j] = (coef[i + 1, j - 1] - coef[i, j - 1]) / (x[i + j] - x[i])\n",
        "\n",
        "    return coef[0, :]\n",
        "\n",
        "def newton_poly(coef, x_data, x):\n",
        "    \"\"\"Evaluate Newton's polynomial at given x values.\"\"\"\n",
        "    n = len(x_data) - 1\n",
        "    p = coef[n]\n",
        "    for k in range(1, n + 1):\n",
        "        p = coef[n - k] + (x - x_data[n - k]) * p\n",
        "    return p\n",
        "\n",
        "# Example for Newton's Interpolation\n",
        "x_newton = np.array([-5, -1, 0, 2])\n",
        "y_newton = np.array([-2, 6, 1, 3])\n",
        "coefficients = divided_diff(x_newton, y_newton)\n",
        "\n",
        "x_eval = np.linspace(min(x_newton), max(x_newton), 100)\n",
        "y_eval = newton_poly(coefficients, x_newton, x_eval)\n",
        "\n",
        "plt.figure(figsize=(10, 6))\n",
        "plt.plot(x_newton, y_newton, 'ro', label='Data points')\n",
        "plt.plot(x_eval, y_eval, 'b-', label='Newton Polynomial')\n",
        "plt.xlabel('x')\n",
        "plt.ylabel('y')\n",
        "plt.title(\"Newton's Polynomial Interpolation\")\n",
        "plt.legend()\n",
        "plt.grid()\n",
        "plt.savefig(\"newton_plot.png\")\n",
        "plt.show()\n"
      ],
      "metadata": {
        "id": "0SIjiVZfguOr"
      },
      "execution_count": null,
      "outputs": []
    }
  ]
}