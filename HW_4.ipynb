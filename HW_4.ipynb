{
  "nbformat": 4,
  "nbformat_minor": 0,
  "metadata": {
    "colab": {
      "private_outputs": true,
      "provenance": [],
      "authorship_tag": "ABX9TyO9m3QVoN3KH4NX51nSBZTq",
      "include_colab_link": true
    },
    "kernelspec": {
      "name": "python3",
      "display_name": "Python 3"
    },
    "language_info": {
      "name": "python"
    }
  },
  "cells": [
    {
      "cell_type": "markdown",
      "metadata": {
        "id": "view-in-github",
        "colab_type": "text"
      },
      "source": [
        "<a href=\"https://colab.research.google.com/github/Yeasung-Kim/MAT-421/blob/main/HW_4.ipynb\" target=\"_parent\"><img src=\"https://colab.research.google.com/assets/colab-badge.svg\" alt=\"Open In Colab\"/></a>"
      ]
    },
    {
      "cell_type": "markdown",
      "source": [
        "# Root Finding Problem Statement\n",
        "### The root of a function f(x) is a value x such that f(x) = 0.\n",
        "### Some functions have simple analytic roots, while others require numerical methods.\n",
        "### Numerical methods, such as the Bisection and Newton-Raphson methods, are used when\n",
        "### analytical solutions are difficult or impossible to find.\n",
        "### In this example, we use the scipy.optimize fsolve function to find a root of f(x) = cos(x) - x.\n",
        "### The root-finding problem is fundamental in scientific computing, engineering, and applied mathematics,\n",
        "### as many equations in physics and engineering are transcendental or complex algebraic equations\n",
        "### that cannot be solved explicitly.\n"
      ],
      "metadata": {
        "id": "gZXwBgM4j_44"
      }
    },
    {
      "cell_type": "code",
      "source": [
        "import numpy as np\n",
        "import matplotlib.pyplot as plt\n",
        "from scipy.optimize import fsolve\n",
        "\n",
        "def func(x):\n",
        "    return np.cos(x) - x\n",
        "\n",
        "# Find root near x = -2\n",
        "root = fsolve(func, -2)\n",
        "print(\"Root found:\", root)\n",
        "print(\"Verification, f(root) =\", func(root))\n",
        "\n",
        "x_vals = np.linspace(-2, 2, 100)\n",
        "y_vals = func(x_vals)\n",
        "\n",
        "plt.plot(x_vals, y_vals, label='f(x) = cos(x) - x')\n",
        "plt.axhline(0, color='black', linestyle='--')\n",
        "plt.scatter(root, func(root), color='red', label='Root')\n",
        "plt.legend()\n",
        "plt.title(\"Root Finding Example\")\n",
        "plt.xlabel(\"x\")\n",
        "plt.ylabel(\"f(x)\")\n",
        "plt.grid()\n",
        "plt.show()"
      ],
      "metadata": {
        "id": "Q-SH2R1kkToY"
      },
      "execution_count": null,
      "outputs": []
    },
    {
      "cell_type": "markdown",
      "source": [
        "# Tolerance\n",
        "### Tolerance determines how close we need to be to a root to consider it a solution.\n",
        "### The smaller the tolerance, the more accurate the solution, but it may take longer to compute.\n",
        "### Setting an appropriate tolerance is crucial to balance computational efficiency and accuracy.\n",
        "### If the tolerance is too large, the result may be inaccurate. If it is too small, the computation may not terminate.\n",
        "### Two common metrics for measuring error are:\n",
        "### 1. Absolute function error: |f(x)| < tol\n",
        "### 2. Absolute change in root approximation: |x_{n+1} - x_n| < tol\n",
        "### The following function checks if two successive approximations meet a given tolerance.\n"
      ],
      "metadata": {
        "id": "y3pv6LZ9kVLg"
      }
    },
    {
      "cell_type": "code",
      "source": [
        "def check_tolerance(x_old, x_new, tol=1e-6):\n",
        "    return abs(x_new - x_old) < tol\n",
        "\n",
        "x_old, x_new = 1.0, 1.0000001\n",
        "print(\"Tolerance check:\", check_tolerance(x_old, x_new))"
      ],
      "metadata": {
        "id": "sRPJR2bVke6M"
      },
      "execution_count": null,
      "outputs": []
    },
    {
      "cell_type": "markdown",
      "source": [
        "# Bisection Method\n",
        "### The Bisection Method is a numerical method for finding roots of a function.\n",
        "### It is based on the Intermediate Value Theorem, which states that if f(x) is continuous\n",
        "### on [a, b] and f(a) and f(b) have opposite signs, then there exists a root c in (a, b).\n",
        "### The method repeatedly bisects the interval and selects the subinterval that contains the root.\n",
        "### This method is guaranteed to converge to a root if the initial interval is chosen correctly.\n",
        "### However, it converges linearly, making it slower than other methods such as Newton-Raphson.\n",
        "\n",
        "# Steps of the Bisection Method:\n",
        "### 1. Choose an initial interval [a, b] such that f(a) and f(b) have opposite signs.\n",
        "### 2. Compute the midpoint m = (a + b) / 2.\n",
        "### 3. Evaluate f(m). If f(m) is sufficiently close to zero, return m as the root.\n",
        "### 4. Otherwise, update the interval to [a, m] or [m, b] depending on the sign of f(m).\n",
        "### 5. Repeat the process until the interval is sufficiently small or f(m) is close to zero."
      ],
      "metadata": {
        "id": "M43EpDlAj-2Q"
      }
    },
    {
      "cell_type": "code",
      "source": [
        "def bisection(f, a, b, tol=1e-6):\n",
        "    if np.sign(f(a)) == np.sign(f(b)):\n",
        "        raise ValueError(\"Function values at interval endpoints must have opposite signs\")\n",
        "\n",
        "    while (b - a) / 2 > tol:\n",
        "        midpoint = (a + b) / 2\n",
        "        if f(midpoint) == 0 or (b - a) / 2 < tol:\n",
        "            return midpoint\n",
        "        elif np.sign(f(midpoint)) == np.sign(f(a)):\n",
        "            a = midpoint\n",
        "        else:\n",
        "            b = midpoint\n",
        "    return (a + b) / 2\n",
        "\n",
        "root_bisection = bisection(func, 0, 1)\n",
        "print(\"Root found by bisection:\", root_bisection)\n"
      ],
      "metadata": {
        "id": "9toUBYs2kwuI"
      },
      "execution_count": null,
      "outputs": []
    },
    {
      "cell_type": "markdown",
      "source": [
        "# Newton-Raphson Method\n",
        "### The Newton-Raphson Method is an iterative numerical method for finding roots of a function.\n",
        "### It uses the derivative of the function to approximate the root using the following formula:\n",
        "### x_{n+1} = x_n - f(x_n) / f'(x_n)\n",
        "### This method converges quickly if the initial guess is close to the actual root.\n",
        "### However, if the derivative is close to zero, it can lead to divergence.\n",
        "### Unlike the Bisection Method, which guarantees convergence, Newton-Raphson may fail if the function is not well-behaved.\n",
        "### It is often used in combination with other methods for robustness.\n",
        "\n",
        "# Steps of the Newton-Raphson Method:\n",
        "### 1. Choose an initial guess x_0.\n",
        "### 2. Compute the next approximation using x_{n+1} = x_n - f(x_n) / f'(x_n).\n",
        "### 3. Repeat the process until |f(x_n)| < tol.\n",
        "### 4. If the method fails to converge within the given iterations, it may indicate the need for a different initial guess."
      ],
      "metadata": {
        "id": "3WTb-TTtk1yY"
      }
    },
    {
      "cell_type": "code",
      "source": [
        "def newton_raphson(f, df, x0, tol=1e-6, max_iter=100):\n",
        "    x = x0\n",
        "    for _ in range(max_iter):\n",
        "        x_new = x - f(x) / df(x)\n",
        "        if abs(f(x_new)) < tol:\n",
        "            return x_new\n",
        "        x = x_new\n",
        "    return x\n",
        "\n",
        "# Define derivative of func\n",
        "def dfunc(x):\n",
        "    return -np.sin(x) - 1\n",
        "\n",
        "root_newton = newton_raphson(func, dfunc, 0.5)\n",
        "print(\"Root found by Newton-Raphson:\", root_newton)\n"
      ],
      "metadata": {
        "id": "ABYErCb8lBy-"
      },
      "execution_count": null,
      "outputs": []
    }
  ]
}