{
  "nbformat": 4,
  "nbformat_minor": 0,
  "metadata": {
    "colab": {
      "private_outputs": true,
      "provenance": [],
      "authorship_tag": "ABX9TyPD2pvLTs9OGBYxIjzPP/eG",
      "include_colab_link": true
    },
    "kernelspec": {
      "name": "python3",
      "display_name": "Python 3"
    },
    "language_info": {
      "name": "python"
    }
  },
  "cells": [
    {
      "cell_type": "markdown",
      "metadata": {
        "id": "view-in-github",
        "colab_type": "text"
      },
      "source": [
        "<a href=\"https://colab.research.google.com/github/Yeasung-Kim/MAT-421/blob/main/HW_7.ipynb\" target=\"_parent\"><img src=\"https://colab.research.google.com/assets/colab-badge.svg\" alt=\"Open In Colab\"/></a>"
      ]
    },
    {
      "cell_type": "markdown",
      "source": [
        "## 1) Numerical Integration Problem Statement\n",
        "\n",
        "Numerical integration is about approximating the definite integral\n",
        "\n",
        "$$\n",
        "\\int_{a}^{b} f(x)\\, dx\n",
        "$$\n",
        "\n",
        "by splitting $[a,b]$ into subintervals. If we have $n$ grid points from $a$ to $b$, the spacing is\n",
        "\n",
        "$$\n",
        "h = \\frac{b - a}{n-1},\n",
        "$$\n",
        "\n",
        "and the points are\n",
        "$$\n",
        "x_0 = a,\\quad x_1 = a + h,\\quad \\dots,\\quad x_{n-1} = b.\n",
        "$$\n",
        "\n",
        "We assume we can compute $f(x_i)$ at each $x_i$. Our goal is to sum simpler shapes (rectangles, trapezoids, etc.) to approximate the total area under $f(x)$ from $a$ to $b$.\n",
        "\n",
        "---"
      ],
      "metadata": {
        "id": "4snn4iHxXn0o"
      }
    },
    {
      "cell_type": "markdown",
      "source": [
        "## 2) Riemann’s Integral\n",
        "**Riemann sums** approximate\n",
        "$$\n",
        "\\int_{a}^{b} f(x)\\, dx\n",
        "$$\n",
        "by summing up areas of rectangles over each subinterval:\n",
        "\n",
        "- **Left Riemann Sum**:\n",
        "$$\n",
        "\\int_{a}^{b} f(x)\\, dx \\;\\approx\\; h \\sum_{i=0}^{n-2} f(x_i).\n",
        "$$\n",
        "\n",
        "- **Right Riemann Sum**:\n",
        "$$\n",
        "\\int_{a}^{b} f(x)\\, dx \\;\\approx\\; h \\sum_{i=1}^{n-1} f(x_i).\n",
        "$$\n",
        "\n",
        "- **Midpoint Rule**:\n",
        "$$\n",
        "\\int_{a}^{b} f(x)\\, dx \\;\\approx\\; h \\sum_{i=0}^{n-2} f\\!\\biggl(\\frac{x_i + x_{i+1}}{2}\\biggr).\n",
        "$$\n",
        "\n",
        "For smooth functions, the Midpoint Rule typically yields $O(h^2)$ accuracy, which is higher than the $O(h)$ accuracy of left or right sums.\n",
        "\n",
        "---"
      ],
      "metadata": {
        "id": "joovf3DeY6aY"
      }
    },
    {
      "cell_type": "markdown",
      "source": [
        "## 3) Trapezoid Rule\n",
        "\n",
        "The **Trapezoid Rule** approximates\n",
        "$$\n",
        "\\int_{a}^{b} f(x)\\, dx\n",
        "$$\n",
        "by summing trapezoid areas on each subinterval $[x_i, x_{i+1}]$. The area of each trapezoid is\n",
        "\n",
        "$$\n",
        "\\frac{f(x_i) + f(x_{i+1})}{2}\\,h,\n",
        "$$\n",
        "\n",
        "so overall:\n",
        "\n",
        "$$\n",
        "\\int_{a}^{b} f(x)\\, dx\n",
        "\\;\\approx\\;\n",
        "\\sum_{i=0}^{n-2} \\frac{f(x_i) + f(x_{i+1})}{2}\\,h\n",
        "\\;=\\;\n",
        "\\frac{h}{2}\\biggl[f(x_0) \\;+\\; 2\\sum_{i=1}^{n-2} f(x_i)\\;+\\; f(x_{n-1})\\biggr].\n",
        "$$\n",
        "\n",
        "This is usually $O(h^2)$ accurate for sufficiently smooth functions, often better than a simple left or right Riemann sum.\n",
        "\n",
        "---\n",
        "\n",
        "### Next Steps\n",
        "1. Increase $n$ (the number of points) to see how each method converges.  \n",
        "2. Try different functions (e.g., polynomials, exponentials, etc.).  \n",
        "3. Explore **Simpson’s Rule** or other higher-order methods for even greater accuracy.\n",
        "\n",
        "Below is a **single** Python code cell showing all methods (Left Riemann, Right Riemann, Midpoint, and Trapezoid) for\n",
        "$$\n",
        "f(x) = \\sin(x)\n",
        "$$\n",
        "on $[0, \\pi]$. The exact integral is $2.0$.\n"
      ],
      "metadata": {
        "id": "h49-BRRIa_Uq"
      }
    },
    {
      "cell_type": "code",
      "source": [
        "# Example Code: Riemann Sums and Trapezoid Rule for f(x) = sin(x)\n",
        "import numpy as np\n",
        "\n",
        "# 1) Define the function and interval\n",
        "def f(x):\n",
        "    return np.sin(x)\n",
        "\n",
        "a = 0.0\n",
        "b = np.pi\n",
        "n = 11  # number of points (so we have 10 subintervals)\n",
        "x = np.linspace(a, b, n)\n",
        "h = (b - a)/(n - 1)\n",
        "fvals = f(x)\n",
        "\n",
        "exact_value = 2.0  # integral of sin(x) on [0, pi]\n",
        "\n",
        "# 2) Riemann sums\n",
        "\n",
        "# Left Riemann\n",
        "I_left = h * np.sum(fvals[:-1])\n",
        "err_left = exact_value - I_left\n",
        "\n",
        "# Right Riemann\n",
        "I_right = h * np.sum(fvals[1:])\n",
        "err_right = exact_value - I_right\n",
        "\n",
        "# Midpoint\n",
        "midpoints = 0.5 * (x[:-1] + x[1:])\n",
        "I_mid = h * np.sum(np.sin(midpoints))\n",
        "err_mid = exact_value - I_mid\n",
        "\n",
        "# 3) Trapezoid Rule\n",
        "I_trap = 0.5 * h * (fvals[0] + 2.0 * np.sum(fvals[1:-1]) + fvals[-1])\n",
        "err_trap = exact_value - I_trap\n",
        "\n",
        "# Print results\n",
        "print(\"----- Numerical Integration Methods for sin(x) -----\")\n",
        "print(f\"Number of grid points = {n}, spacing h = {h:.4f}\\n\")\n",
        "\n",
        "print(f\"Left  Riemann  = {I_left:.6f}, Error = {err_left:.6f}\")\n",
        "print(f\"Right Riemann  = {I_right:.6f}, Error = {err_right:.6f}\")\n",
        "print(f\"Midpoint Rule  = {I_mid:.6f}, Error = {err_mid:.6f}\")\n",
        "print(f\"Trapezoid Rule = {I_trap:.6f}, Error = {err_trap:.6f}\")\n"
      ],
      "metadata": {
        "id": "xl8HOiXhbHce"
      },
      "execution_count": null,
      "outputs": []
    }
  ]
}