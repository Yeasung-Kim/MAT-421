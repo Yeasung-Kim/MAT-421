{
  "nbformat": 4,
  "nbformat_minor": 0,
  "metadata": {
    "colab": {
      "private_outputs": true,
      "provenance": [],
      "authorship_tag": "ABX9TyMPWX7gM5xW1MY5d45q6m4W",
      "include_colab_link": true
    },
    "kernelspec": {
      "name": "python3",
      "display_name": "Python 3"
    },
    "language_info": {
      "name": "python"
    }
  },
  "cells": [
    {
      "cell_type": "markdown",
      "metadata": {
        "id": "view-in-github",
        "colab_type": "text"
      },
      "source": [
        "<a href=\"https://colab.research.google.com/github/Yeasung-Kim/MAT-421/blob/main/HW_8.ipynb\" target=\"_parent\"><img src=\"https://colab.research.google.com/assets/colab-badge.svg\" alt=\"Open In Colab\"/></a>"
      ]
    },
    {
      "cell_type": "markdown",
      "source": [
        "# Simpson’s Rule: Numerical Integration\n",
        "\n",
        "Simpson’s Rule is a method for approximating definite integrals by fitting quadratic polynomials to the function over pairs of subintervals. It requires that the number of subintervals be even (or, equivalently, the number of grid points be odd). The basic formula for Simpson’s Rule over an interval \\([a, b]\\) with \\(n\\) evenly spaced points is:\n",
        "\n",
        "\\[\n",
        "I \\approx \\frac{h}{3}\\left[f(x_0) + f(x_{n-1}) + 4\\sum_{i \\, \\text{odd}} f(x_i) + 2\\sum_{i \\, \\text{even},\\, i\\neq0, n-1} f(x_i)\\right]\n",
        "\\]\n",
        "\n",
        "where \\(h = \\frac{b-a}{n-1}\\) is the spacing between the points.\n",
        "\n",
        "This approach works by approximating the integrand with quadratic functions (constructed via Lagrange interpolation) on each pair of subintervals and then summing the integrals of these quadratics. The method is more accurate than the trapezoidal rule because the quadratic fits better capture the curvature of many functions.\n",
        "\n",
        "*The following example uses Simpson’s Rule to approximate the integral of \\(\\sin(x)\\) over the interval \\([0, \\pi]\\), which has an exact value of 2.*\n"
      ],
      "metadata": {
        "id": "pKUqH0k3-TQQ"
      }
    },
    {
      "cell_type": "code",
      "source": [
        "import numpy as np\n",
        "\n",
        "# Define the interval [a, b] and number of points (n must be odd)\n",
        "a = 0\n",
        "b = np.pi\n",
        "n = 11  # 11 grid points -> 10 subintervals (an even number)\n",
        "\n",
        "# Compute the spacing\n",
        "h = (b - a) / (n - 1)\n",
        "\n",
        "# Generate grid points\n",
        "x = np.linspace(a, b, n)\n",
        "\n",
        "# Evaluate the function sin(x) at the grid points\n",
        "f = np.sin(x)\n",
        "\n",
        "# Simpson's Rule formula:\n",
        "# I ≈ (h/3) [ f[0] + f[n-1] + 4 * sum(f[1:n-1:2]) + 2 * sum(f[2:n-1:2]) ]\n",
        "I_simp = (h / 3) * (f[0] + f[n-1] +\n",
        "                    4 * np.sum(f[1:n-1:2]) +\n",
        "                    2 * np.sum(f[2:n-1:2]))\n",
        "\n",
        "# Compute the error relative to the exact value (which is 2 for ∫₀^π sin(x) dx)\n",
        "err_simp = 2 - I_simp\n",
        "\n",
        "# Print the results\n",
        "print(\"Simpson's Rule Approximation: \", I_simp)\n",
        "print(\"Error compared to the exact value: \", err_simp)\n"
      ],
      "metadata": {
        "id": "hjbeB1wf-VGr"
      },
      "execution_count": null,
      "outputs": []
    },
    {
      "cell_type": "markdown",
      "source": [
        "## Explanation\n",
        "\n",
        "1. **Grid Setup:**  \n",
        "   We define the interval \\([0, \\pi]\\) and choose 11 equally spaced points. The spacing \\(h\\) is calculated as:\n",
        "   \n",
        "   \\[\n",
        "   h = \\frac{b - a}{n - 1}\n",
        "   \\]\n",
        "   \n",
        "2. **Function Evaluation:**  \n",
        "   The function \\(f(x) = \\sin(x)\\) is evaluated at each of the grid points.\n",
        "\n",
        "3. **Applying Simpson’s Rule:**  \n",
        "   The Simpson’s Rule formula is implemented by:\n",
        "   - Adding the first and last function values.\n",
        "   - Multiplying the sum of the function values at odd-indexed points (which correspond to the midpoints of the subintervals) by 4.\n",
        "   - Multiplying the sum of the function values at even-indexed points (excluding the endpoints) by 2.\n",
        "   - Multiplying the total sum by \\(\\frac{h}{3}\\) to get the final approximation.\n",
        "\n",
        "4. **Error Computation:**  \n",
        "   Since the exact value of \\(\\int_0^{\\pi} \\sin(x) \\, dx\\) is 2, the error is computed as the difference between 2 and the Simpson’s Rule approximation.\n",
        "\n",
        "This notebook illustrates how Simpson’s Rule is applied in practice. You can modify the function or the number of points to explore how the approximation accuracy changes.\n"
      ],
      "metadata": {
        "id": "fb9rYHfU-W8s"
      }
    }
  ]
}