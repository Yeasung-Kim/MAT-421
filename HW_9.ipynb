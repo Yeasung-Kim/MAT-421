{
  "nbformat": 4,
  "nbformat_minor": 0,
  "metadata": {
    "colab": {
      "private_outputs": true,
      "provenance": [],
      "authorship_tag": "ABX9TyO/1cBwr86LjR/sCmp1OU9o",
      "include_colab_link": true
    },
    "kernelspec": {
      "name": "python3",
      "display_name": "Python 3"
    },
    "language_info": {
      "name": "python"
    }
  },
  "cells": [
    {
      "cell_type": "markdown",
      "metadata": {
        "id": "view-in-github",
        "colab_type": "text"
      },
      "source": [
        "<a href=\"https://colab.research.google.com/github/Yeasung-Kim/MAT-421/blob/main/HW_9.ipynb\" target=\"_parent\"><img src=\"https://colab.research.google.com/assets/colab-badge.svg\" alt=\"Open In Colab\"/></a>"
      ]
    },
    {
      "cell_type": "markdown",
      "source": [
        "# ODE Concepts in Python\n",
        "\n",
        "---\n",
        "\n",
        "## 🧮 1. ODE Initial Value Problem Statement\n",
        "\n",
        "### 📘 Explanation\n",
        "An **Initial Value Problem (IVP)** for an Ordinary Differential Equation (ODE) consists of a differential equation together with a specified value, called the **initial condition**, at a given point. This initial value allows for the computation of a unique solution under certain conditions.\n",
        "\n",
        "A general first-order ODE can be expressed as:\n",
        "\n",
        "$ \\frac{dy}{dt} = f(t, y), \\quad y(t_0) = y_0 $\n",
        "\n",
        "Here:\n",
        "- $ f(t, y) $ is a known function that defines the rate of change of $ y $ with respect to $ t $.\n",
        "- $ y(t_0) = y_0 $ is the **initial condition**.\n",
        "\n",
        "### 🧪 Example: Solving dy/dt = -2y with y(0) = 1 using Euler's Method"
      ],
      "metadata": {
        "id": "-3GJwlEn-4Kj"
      }
    },
    {
      "cell_type": "code",
      "source": [
        "import numpy as np\n",
        "import matplotlib.pyplot as plt\n",
        "\n",
        "f = lambda t, y: -2 * y  # Define the differential equation\n",
        "\n",
        "# Parameters\n",
        "h = 0.1  # Step size\n",
        "T = 5    # Total time\n",
        "n = int(T/h) + 1\n",
        "t = np.linspace(0, T, n)\n",
        "y = np.zeros(n)\n",
        "y[0] = 1  # Initial condition\n",
        "\n",
        "# Euler's method for solving the ODE\n",
        "def euler(f, t, y0):\n",
        "    y = np.zeros(len(t))\n",
        "    y[0] = y0\n",
        "    for i in range(1, len(t)):\n",
        "        y[i] = y[i-1] + h * f(t[i-1], y[i-1])\n",
        "    return y\n",
        "\n",
        "solution = euler(f, t, 1)\n",
        "\n",
        "plt.plot(t, solution, label='Euler Approximation')\n",
        "plt.plot(t, np.exp(-2 * t), label='Exact Solution')\n",
        "plt.legend()\n",
        "plt.title(\"ODE IVP: dy/dt = -2y, y(0)=1\")\n",
        "plt.xlabel('Time')\n",
        "plt.ylabel('y(t)')\n",
        "plt.grid()\n",
        "plt.show()"
      ],
      "metadata": {
        "id": "Hlgq50oh_mXv"
      },
      "execution_count": null,
      "outputs": []
    },
    {
      "cell_type": "markdown",
      "source": [
        "## 🔁 2. Reduction of Order\n",
        "\n",
        "### 📘 Explanation\n",
        "Most numerical solvers (like Euler or Runge-Kutta methods) are designed for **first-order** ODEs. To apply these to higher-order ODEs (like second or third order), we must **reduce them to a system of first-order equations**.\n",
        "\n",
        "For example, a second-order ODE:\n",
        "\n",
        "$ \\frac{d^2\\theta}{dt^2} = -\\frac{g}{L}\\theta $\n",
        "\n",
        "can be transformed by defining:\n",
        "- $ \\theta_1 = \\theta $\n",
        "- $ \\theta_2 = \\frac{d\\theta}{dt} $\n",
        "\n",
        "Then:\n",
        "$ \\frac{d\\theta_1}{dt} = \\theta_2, \\quad \\frac{d\\theta_2}{dt} = -\\frac{g}{L} \\theta_1 $\n",
        "\n",
        "This forms a system of first-order equations.\n",
        "\n",
        "### 🧪 Example: Simple Pendulum Simulation\n"
      ],
      "metadata": {
        "id": "pYNM0NCt_xP7"
      }
    },
    {
      "cell_type": "code",
      "source": [
        "# Parameters\n",
        "import numpy as np\n",
        "import matplotlib.pyplot as plt\n",
        "\n",
        "g = 9.81\n",
        "L = 1.0  # length of pendulum\n",
        "\n",
        "# Define system of equations\n",
        "def pendulum(t, S):\n",
        "    theta1, theta2 = S\n",
        "    dtheta1_dt = theta2\n",
        "    dtheta2_dt = -(g/L) * theta1\n",
        "    return np.array([dtheta1_dt, dtheta2_dt])\n",
        "\n",
        "# Initial conditions\n",
        "h = 0.01\n",
        "T = 10\n",
        "t = np.arange(0, T + h, h)\n",
        "S = np.zeros((len(t), 2))\n",
        "S[0] = [0.1, 0]  # initial angle and angular velocity\n",
        "\n",
        "# Solve using Euler's method\n",
        "for i in range(len(t) - 1):\n",
        "    S[i+1] = S[i] + h * pendulum(t[i], S[i])\n",
        "\n",
        "# Plot\n",
        "plt.plot(t, S[:, 0], label='Angle (theta)')\n",
        "plt.title(\"Pendulum Motion via Reduction of Order\")\n",
        "plt.xlabel('Time (s)')\n",
        "plt.ylabel('Theta (rad)')\n",
        "plt.grid()\n",
        "plt.legend()\n",
        "plt.show()"
      ],
      "metadata": {
        "id": "b6Mbp7IT_2pf"
      },
      "execution_count": null,
      "outputs": []
    },
    {
      "cell_type": "markdown",
      "source": [
        "## 📐 3. The Euler Method\n",
        "\n",
        "### 📘 Explanation\n",
        "The **Euler Method** is the simplest numerical technique for approximating solutions to first-order differential equations with an initial value. It is a first-order method, meaning the local error is proportional to the square of the step size.\n",
        "\n",
        "Given:\n",
        "$ y'(t) = f(t, y), \\quad y(t_0) = y_0 $\n",
        "\n",
        "The Euler update formula is:\n",
        "$ y_{n+1} = y_n + h f(t_n, y_n) $\n",
        "\n",
        "### 🧪 Example: dy/dt = e^(-t), y(0) = -1\n",
        "\n"
      ],
      "metadata": {
        "id": "4Khg2_m2_9kT"
      }
    },
    {
      "cell_type": "code",
      "source": [
        "\n",
        "f = lambda t, y: np.exp(-t)\n",
        "t = np.arange(0, 1.1, 0.1)\n",
        "y = np.zeros(len(t))\n",
        "y[0] = -1\n",
        "\n",
        "# Apply Euler method\n",
        "for i in range(len(t)-1):\n",
        "    y[i+1] = y[i] + 0.1 * f(t[i], y[i])\n",
        "\n",
        "# Plot\n",
        "plt.plot(t, y, 'bo--', label='Euler Approximation')\n",
        "plt.plot(t, -np.exp(-t), 'g', label='Exact Solution')\n",
        "plt.title('Euler Method Example: dy/dt = e^{-t}, y(0) = -1')\n",
        "plt.xlabel('t')\n",
        "plt.ylabel('y(t)')\n",
        "plt.legend()\n",
        "plt.grid()\n",
        "plt.show()"
      ],
      "metadata": {
        "id": "t2F4RiUvAFR2"
      },
      "execution_count": null,
      "outputs": []
    }
  ]
}