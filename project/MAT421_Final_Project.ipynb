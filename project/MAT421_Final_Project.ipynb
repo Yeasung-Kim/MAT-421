{
  "nbformat": 4,
  "nbformat_minor": 0,
  "metadata": {
    "colab": {
      "private_outputs": true,
      "provenance": [],
      "authorship_tag": "ABX9TyP2ifZ67OsdpEL1+SIGgO6v",
      "include_colab_link": true
    },
    "kernelspec": {
      "name": "python3",
      "display_name": "Python 3"
    },
    "language_info": {
      "name": "python"
    }
  },
  "cells": [
    {
      "cell_type": "markdown",
      "metadata": {
        "id": "view-in-github",
        "colab_type": "text"
      },
      "source": [
        "<a href=\"https://colab.research.google.com/github/Yeasung-Kim/MAT-421/blob/main/MAT421_Final_Project.ipynb\" target=\"_parent\"><img src=\"https://colab.research.google.com/assets/colab-badge.svg\" alt=\"Open In Colab\"/></a>"
      ]
    },
    {
      "cell_type": "markdown",
      "source": [
        "<div align=\"center\">\n",
        "\n",
        "# Arizona State University  \n",
        "\n",
        "**School of Mathematical and Statistical Sciences**\n",
        "\n",
        "## MAT 421: Applied Computational Methods\n",
        "\n",
        "---\n",
        "\n",
        "### Including Batter Sprint Speed in the Calculation of the Intrinsic Value of a Batted Ball  \n",
        "\n",
        "#### Final Project\n",
        "\n",
        "---\n",
        "\n",
        "| **Student Name** | **Student Email** |\n",
        "| :-- | :-- |\n",
        "| Yea Sung Kim | ykim296@asu.edu |\n",
        "\n",
        "&nbsp;  \n",
        "\n",
        "**Professor**  \n",
        "Dr.&nbsp;Haiyan Wang\n",
        "\n",
        "&nbsp;  \n",
        "\n",
        "**Submission Date&nbsp;: 27 April 2025**\n",
        "\n",
        "</div>\n"
      ],
      "metadata": {
        "id": "_OY2c5xgW662"
      }
    },
    {
      "cell_type": "markdown",
      "source": [
        "<style>\n",
        ".toc-box {\n",
        "  border: 1px solid #dcdcdc;\n",
        "  border-radius: 8px;\n",
        "  padding: 18px 24px;\n",
        "  background:#fafafa;\n",
        "  font-size: 15px;\n",
        "  line-height: 1.5;\n",
        "}\n",
        "\n",
        "\n",
        ".toc-table       { width:100%; border-collapse:collapse; }\n",
        ".toc-table td    { padding:2px 0; vertical-align:top; }\n",
        ".toc-left        { width:88%; }\n",
        ".toc-right       { width:12%; text-align:right; font-variant-numeric: tabular-nums; }\n",
        "\n",
        "\n",
        ".toc-sub1 .toc-left { padding-left:16px; }\n",
        ".toc-sub2 .toc-left { padding-left:32px; }\n",
        "\n",
        "\n",
        ".toc-box a { text-decoration:none; color:#1a73e8; }\n",
        "</style>\n",
        "\n",
        "<div class=\"toc-box\">\n",
        "\n",
        "### Contents\n",
        "<table class=\"toc-table\">\n",
        "  <tr><td class=\"toc-left\">1.&nbsp;<a href=\"#abstract\">Abstract</a></td>                                       <td class=\"toc-right\">3</td></tr>\n",
        "  <tr><td class=\"toc-left\">2.&nbsp;<a href=\"#introduction\">Introduction</a></td>                               <td class=\"toc-right\">3</td></tr>\n",
        "  <tr><td class=\"toc-left\">3.&nbsp;<a href=\"#data\">Data</a></td>                                               <td class=\"toc-right\">4</td></tr>\n",
        "  <tr><td class=\"toc-left\">4.&nbsp;<a href=\"#methodology\">Methodology</a></td>                                 <td class=\"toc-right\">4</td></tr>\n",
        "  <tr><td class=\"toc-left\">5.&nbsp;<a href=\"#comparison\">Comparing the Sprint-Speed Intrinsic Value&nbsp;with the<br>\n",
        "                              &nbsp;&nbsp;&nbsp;&nbsp;&nbsp;non-Sprint-Speed Intrinsic Value</a></td>         <td class=\"toc-right\">4</td></tr>\n",
        "  <tr class=\"toc-sub1\"><td class=\"toc-left\">5.1&nbsp;<a href=\"#accuracy\">Accuracy</a></td>                     <td class=\"toc-right\">4</td></tr>\n",
        "  <tr class=\"toc-sub1\"><td class=\"toc-left\">5.2&nbsp;<a href=\"#reliability\">Reliability</a></td>               <td class=\"toc-right\">4</td></tr>\n",
        "  <tr><td class=\"toc-left\">6.&nbsp;<a href=\"#references\">References</a></td>                                   <td class=\"toc-right\">5</td></tr>\n",
        "</table>\n",
        "\n",
        "</div>\n"
      ],
      "metadata": {
        "id": "74RKEcDFYI3y"
      }
    },
    {
      "cell_type": "markdown",
      "source": [
        "## 1 · Abstract\n",
        "\n",
        "This paper outlines the development of two models designed to quantify the **intrinsic value** of a batted ball.  \n",
        "The first model—originally created by *Dr. Glenn Healey*—maps a batted ball’s **speed**, **vertical angle**, and **horizontal angle** to an intrinsic value. However, this model tends to **underrate above-average runners** and **overrate below-average runners**.\n",
        "\n",
        "To address this limitation, a **second model** is introduced that **incorporates the batter’s sprint speed** into the mapping process.\n",
        "\n",
        "Visual representations of both models are provided:\n",
        "\n",
        "* the original **wOBA cube**, and  \n",
        "* the sprint-speed-enhanced **wOBA tesseract**.\n",
        "\n",
        "Model performance was assessed via the **mean absolute deviation (MAD)** between intrinsic values and an outcomes-based statistic. Results show the sprint-speed model is **at least as accurate** as the original.  \n",
        "Reliability, measured with **Cronbach’s α**, indicates both intrinsic models are similarly reliable and outperform the outcomes-based metric.\n",
        "\n",
        "Finally, the paper identifies the ten most **overrated** and **underrated** players by comparing intrinsic and outcomes-based statistics. The analysis concludes that the sprint-speed model **reduces the tendency to underrate fast runners and overrate slower ones** compared with the original intrinsic model (Melville 2019).\n"
      ],
      "metadata": {
        "id": "_5kYQWxrMFqE"
      }
    },
    {
      "cell_type": "markdown",
      "source": [
        "## 2 · Introduction\n",
        "\n",
        "In his article *Learning, Visualizing, and Assessing a Model for the Intrinsic Value of a Batted Ball*\n",
        "<span style=\"font-size:0.85em;\">(Healey 2017)</span>,\n",
        "Glenn Healey developed a Bayesian model to estimate the intrinsic value of a batted ball based on its speed, vertical angle, and horizontal angle.\n",
        "He demonstrated that this intrinsic-value statistic exhibited greater reliability than traditional outcomes-based statistics.\n",
        "In baseball, various external factors—such as defensive quality, ballpark dimensions, and weather conditions—can influence the outcome of a batted ball.\n",
        "By isolating what the batter controls, Healey’s intrinsic-value model provides a potentially improved method for evaluating hitters, independent of these confounding variables.\n",
        "\n",
        "Healey’s model maps a batted-ball vector $x = (s,\\,v,\\,h)$ — where $s$ represents launch speed, $v$ is the vertical launch angle, and $h$ is the horizontal angle — to an intrinsic value.\n",
        "In an article for *The Hardball Times*\n",
        "<span style=\"font-size:0.85em;\">(Healey 2016)</span>,\n",
        "he observed that players with a significant discrepancy between their outcomes-based statistic $(O)$, measured by weighted on-base average on contact (wOBAcon), and their intrinsic value $(I)$ often exhibited above-average running speed.\n",
        "Conversely, players with smaller $O-I$ values tended to be slower runners\n",
        "<span style=\"font-size:0.85em;\">(Healey 2016; Slowinski 2010)</span>.\n",
        "This suggests that fast runners often outperform the expectations set by the intrinsic model, while slower runners struggle to meet them.\n",
        "\n",
        "For instance, a slow ground ball to third base holds different value depending on the batter’s speed—a fast runner may beat the throw to first, while a slower runner likely cannot.\n",
        "Similarly, speed allows certain players to stretch singles into doubles or doubles into triples, exceeding the model’s intrinsic-value predictions.\n",
        "These insights indicate that Healey’s model may underrate fast runners and overrate slow runners.\n",
        "To address this, an enhanced version of the intrinsic-value model that incorporates a player’s sprint speed is introduced in this paper.\n",
        "\n",
        "Throughout this work, Healey’s original intrinsic-value statistic is referred to as $I_{ns}$, representing the model **without** a sprint-speed parameter.\n",
        "The updated version, which integrates sprint speed, is denoted as $I_s$.\n",
        "The notation $I(x)$ refers to the intrinsic value of a specific batted ball with vector $x$, while $I$ represents the player’s overall intrinsic-value statistic, averaged across all of their batted balls.\n",
        "Visual representations of $I_{ns}(x)$ and $I_s(x)$ across different launch angles are provided.\n",
        "Finally, the two intrinsic-value models are compared in terms of accuracy, reliability, and $O - I$ values, with $O$ denoting the outcomes-based statistic (wOBAcon) throughout this paper.\n"
      ],
      "metadata": {
        "id": "2NUM_pTRMF1F"
      }
    },
    {
      "cell_type": "markdown",
      "source": [
        "## 3 · Data\n",
        "\n",
        "Batted-ball data from the **2024 MLB season** were sourced from Statcast using data-scraping functions in the Python package **pybaseball**\n",
        "<span style=\"font-size:0.85em;\">(Baseball Savant; LeDoux 2024)</span>.\n",
        "This dataset included information on each batted ball’s batter, launch speed, launch angle, horizontal angle, and wOBAcon.  \n",
        "\n",
        "Additionally, player sprint speeds were obtained separately from Statcast, defined as “feet per second in a player’s fastest one-second window”\n",
        "<span style=\"font-size:0.85em;\">(Baseball Savant)</span>.  \n",
        "\n",
        "The weights used to calculate $I(x)$ were primarily provided by FanGraphs, except for the weight assigned to reaching base on an error, which was taken from Tom Tango’s *The Book*\n",
        "<span style=\"font-size:0.85em;\">(FanGraphs GUTS; Tango 2007)</span>.\n"
      ],
      "metadata": {
        "id": "VstrrE6AMF28"
      }
    },
    {
      "cell_type": "markdown",
      "source": [
        "## 4 · Methodology\n",
        "\n",
        "This project builds upon the Bayesian statistical model and Kernel Density Estimation (KDE) techniques first developed by Healey <span style=\"font-size:0.85em;\">(Healey 2017)</span>, extending them to incorporate batter sprint speed as an additional dimension.\n",
        "\n",
        "---\n",
        "\n",
        "### 4.1 Choice of Methods\n",
        "\n",
        "A **Bayesian** approach was chosen because it provides a principled way to incorporate prior knowledge (such as historical outcome rates) and update predictions based on new data (batted-ball measurements). This framework naturally handles uncertainty and produces interpretable probabilities for different outcomes.\n",
        "\n",
        "**Kernel Density Estimation (KDE)** was selected because the true distribution of batted-ball characteristics conditioned on an outcome is complex and unlikely to follow a simple parametric form. KDE allows smooth, flexible modeling of these distributions directly from the data without strong assumptions about their shape.\n",
        "\n",
        "Together, Bayesian inference and KDE offer a robust, data-driven framework capable of modeling high-dimensional, irregularly distributed baseball data.\n",
        "\n",
        "---\n",
        "\n",
        "### 4.2 Bayesian Estimation of Outcome Probabilities\n",
        "\n",
        "The intrinsic value of a batted ball is based on estimating the posterior probability of an outcome $R_j$ given a batted-ball vector $x = (s, v, h)$ using Bayes’ theorem:\n",
        "\n",
        "$P(R_j \\mid x) = \\dfrac{p(x \\mid R_j)\\, P(R_j)}{p(x)}$\n",
        "\n",
        "where  \n",
        "\n",
        "* $P(R_j)$ is the prior probability of outcome $R_j$, estimated from historical data.  \n",
        "* $p(x \\mid R_j)$ is the likelihood, modeling the probability of observing $x$ given $R_j$.  \n",
        "* $p(x)$ is the marginal probability, computed as  \n",
        "\n",
        "  $p(x) = \\sum_{j=0}^{5} p(x \\mid R_j)\\, P(R_j)$\n",
        "\n",
        "The outcome categories considered were: **out, single, double, triple, home run, reach on error** ($j = 0,1,2,3,4,5$).\n",
        "\n",
        "---\n",
        "\n",
        "### 4.3 Kernel Density Estimation of Likelihoods\n",
        "\n",
        "Kernel Density Estimation (KDE) is a non-parametric way to estimate the probability-density function of a random variable. For a $d$-dimensional random variable $x$,\n",
        "\n",
        "$\\hat{p}(x) = \\dfrac{1}{n} \\sum_{i=1}^{n} \\dfrac{1}{h^{d}}\\, K\\!\\bigl(\\tfrac{x - x_i}{h}\\bigr)$,\n",
        "\n",
        "where  \n",
        "\n",
        "* $n$ is the number of data points,  \n",
        "* $h$ is the bandwidth parameter (controls the smoothing),  \n",
        "* $K$ is the kernel function (multivariate Gaussian here).\n",
        "\n",
        "In this project, KDE is applied to $x = (s, v, h)$ in the original model and to $x = (s, v, h, ss)$ in the sprint-speed-enhanced model, using independent bandwidths for each dimension.\n",
        "\n",
        "**Original 3-D model**\n",
        "\n",
        "$K(x) = \\dfrac{1}{(2\\pi)^{3/2}\\,\\sigma_s \\sigma_v \\sigma_h}\\,\n",
        "\\exp\\!\\left[-\\tfrac12\\!\\left(\\tfrac{s^{2}}{\\sigma_s^{2}} + \\tfrac{v^{2}}{\\sigma_v^{2}} + \\tfrac{h^{2}}{\\sigma_h^{2}}\\right)\\right]$\n",
        "\n",
        "**Sprint-speed 4-D model**\n",
        "\n",
        "$K(x) = \\dfrac{1}{(2\\pi)^{2}\\,\\sigma_s \\sigma_v \\sigma_h \\sigma_{ss}}\\,\n",
        "\\exp\\!\\left[-\\tfrac12\\!\\left(\\tfrac{s^{2}}{\\sigma_s^{2}} + \\tfrac{v^{2}}{\\sigma_v^{2}} + \\tfrac{h^{2}}{\\sigma_h^{2}} + \\tfrac{ss^{2}}{\\sigma_{ss}^{2}}\\right)\\right]$\n",
        "\n",
        "Extending the KDE to include sprint speed thus enhances realism and predictive power.\n",
        "\n",
        "---\n",
        "\n",
        "### 4.4 Incorporating Sprint Speed\n",
        "\n",
        "To address the model’s tendency to underrate fast runners and overrate slow runners, batter sprint speed ($ss$) was incorporated as a fourth dimension:\n",
        "\n",
        "$x = (s, v, h, ss)$\n",
        "\n",
        "Including $ss$ allows the model to account for how running ability affects batted-ball outcomes, particularly infield hits and stretched doubles.\n",
        "\n",
        "---\n",
        "\n",
        "### 4.5 Intrinsic Value Calculation\n",
        "\n",
        "Using the posterior probabilities, the intrinsic value for a single batted ball is\n",
        "\n",
        "$I(x) = \\sum_{j=0}^{5} w_j\\, P(R_j \\mid x)$,\n",
        "\n",
        "where $w_j$ is the wOBA weight for outcome $j$.  \n",
        "A player’s overall intrinsic statistic is the mean of $I(x)$ across all of their batted balls.\n",
        "\n",
        "---\n",
        "\n",
        "### 4.6 Bandwidth Parameters\n",
        "\n",
        "#### Table 1 · 2024 Bandwidth Parameters (original model)\n",
        "\n",
        "| $\\sigma^\\*$ | Outs | 1B  | 2B  | 3B  | HR  | RBOE |\n",
        "|:-----------:|-----:|----:|----:|----:|----:|-----:|\n",
        "| $\\sigma_s$  | 3.46 | 3.77 | 4.02 | 5.31 | 2.33 | 8.31 |\n",
        "| $\\sigma_v$  | 4.94 | 3.79 | 5.60 | 6.18 | 2.27 | 9.14 |\n",
        "| $\\sigma_h$  | 1.71 | 5.90 | 2.00 | 3.02 | 4.47 | 7.79 |\n",
        "\n",
        "#### Table 2 · 2024 Bandwidth Parameters with Sprint Speed\n",
        "\n",
        "| $\\sigma^\\*$   | Outs | 1B  | 2B  | 3B  | HR  | RBOE |\n",
        "|:-------------:|-----:|----:|----:|----:|----:|-----:|\n",
        "| $\\sigma_s$    | 3.16 | 3.88 | 3.80 | 4.28 | 2.13 | 6.64 |\n",
        "| $\\sigma_v$    | 5.60 | 3.69 | 4.96 | 4.92 | 2.30 | 8.54 |\n",
        "| $\\sigma_h$    | 3.06 | 5.11 | 1.88 | 4.23 | 4.08 | 6.70 |\n",
        "| $\\sigma_{ss}$ | 0.60 | 0.70 | 0.89 | 0.72 | 0.72 | 0.95 |\n"
      ],
      "metadata": {
        "id": "4N092hDeMF5G"
      }
    },
    {
      "cell_type": "code",
      "source": [
        "!mkdir -p images"
      ],
      "metadata": {
        "id": "w_4cZ4RbMh2H"
      },
      "execution_count": null,
      "outputs": []
    },
    {
      "cell_type": "markdown",
      "source": [
        "## 5 · Visualizing the Intrinsic Values\n",
        "\n",
        "In his article <span style=\"font-size:0.85em;\">(Healey 2017)</span>, Healey created a visual mapping from $(s,v,h)$ to the intrinsic value $I_{ns}(x)$, called the **wOBA cube**. Figure 1 presents a similar wOBA cube using **2024** data rather than the 2014 data that Healey used. Since the distance from home plate to the fence is typically shortest along the baselines $(h=\\pm45^\\circ)$, it is not surprising that Figure 1 suggests that, for a batted ball hit at **96 mph**, the highest intrinsic values occur when it is hit down the baselines ($h>40^\\circ$ or $h<-40^\\circ$) with a vertical launch angle $v$ between **25° and 35°**.\n",
        "\n",
        "The cold spots centered just below $v=20^\\circ$ with horizontal angles near $-30^\\circ$, $0^\\circ$, and $30^\\circ$ correspond to balls hit to the left-, center-, and right-fielders, which typically result in outs. Likewise, the cold spots below $v=0^\\circ$ centered around $h=-35^\\circ,\\,-15^\\circ,\\,20^\\circ,\\,40^\\circ$ represent ground balls fielded for outs by the third-baseman, shortstop, second-baseman, and first-baseman, respectively.\n",
        "\n",
        "A similar visual can be created that maps $(s,v,h,ss)$ to $I_s(x)$ when both $s$ and $ss$ are held constant. Because this version includes four inputs instead of three, it is no longer a *cube* but a **wOBA tesseract**.\n",
        "\n",
        "---\n",
        "\n",
        "### Figure captions  \n",
        "\n",
        "*Figure 1 — 2024 wOBA cube with $s=96$ mph.*  \n",
        "\n",
        "*Figure 2 — wOBA tesseract with $s=96$ mph and $ss=25$ ft s$^{-1}$.*\n",
        "  \n",
        "*Figure 3 — wOBA tesseract with $s=96$ mph and $ss=27$ ft s$^{-1}$.*\n",
        "  \n",
        "*Figure 4 — wOBA tesseract with $s=96$ mph and $ss=29$ ft s$^{-1}$. *\n",
        "\n",
        "---\n",
        "\n",
        "Figures 2–4 display the wOBA tesseracts for $s=96$ mph and sprint speeds $ss=25$, $27$, and $29$ ft s$^{-1}$, respectively. The value $27$ ft s$^{-1}$ represents the MLB-average sprint speed, while 25 ft s$^{-1}$ and 29 ft s$^{-1}$ reflect relatively slow and fast speeds among MLB players.\n",
        "\n",
        "At first glance, these tesseracts appear quite similar, but there are subtle and important distinctions. For example, ground balls hit down the first-base line $(h>40^\\circ,\\;v\\in[-10^\\circ,0^\\circ])$ become increasingly valuable as sprint speed increases—an expected trend. Additionally, balls hit with $v\\approx30^\\circ$ and $h<-40^\\circ$ show a noticeable gain in intrinsic value with increasing sprint speed.\n",
        "\n",
        "Although each plot uses slightly different color scales, the trend is still evident: at $ss=29$ ft s$^{-1}$, these batted balls reach intrinsic values as high as **1.4**, compared to around **1.6** at $ss=27$ ft s$^{-1}$, and below **1.6** at $ss=25$ ft s$^{-1}$. This highlights how such batted balls do **not** always gain value under $I_s(x)$ as sprint speed increases.\n",
        "\n",
        "A similar trend is observed for balls hit with $v=30^\\circ$ and $h>40^\\circ$, although the trend is less pronounced. Here, the intrinsic value rises from approximately **1.4** at $ss=25$ ft s$^{-1}$ to slightly above **1.2** at $ss=27$ ft s$^{-1}$, but curiously drops again to around or below **1.0** at $ss=29$ ft s$^{-1}$. This unexpected dip could be attributed to small-sample size.\n",
        "\n",
        "By introducing a sprint-speed dimension into the model, the number of comparable batted-ball instances naturally decreases. This scarcity can lead to **inconsistent** estimates of $I_s(x)$, even if general intuition suggests faster sprint speeds should yield higher intrinsic values.\n"
      ],
      "metadata": {
        "id": "v5Ly47ZtMF7A"
      }
    },
    {
      "cell_type": "code",
      "source": [
        "from IPython.display import Image, display, Markdown\n",
        "\n",
        "image_paths = [\n",
        "    \"/content/images/intrinsicnosprint.png\",\n",
        "    \"/content/images/25sprint.png\",\n",
        "    \"/content/images/27sprint.png\",\n",
        "    \"/content/images/29sprint.png\",\n",
        "]\n",
        "\n",
        "for idx, path in enumerate(image_paths, start=1):\n",
        "    display(Markdown(f\"### Figure {idx}\"))\n",
        "    display(Image(path, width=600))\n"
      ],
      "metadata": {
        "id": "5p1sfiRHM6xq"
      },
      "execution_count": null,
      "outputs": []
    },
    {
      "cell_type": "markdown",
      "source": [
        "## 6 · Comparing the Sprint-Speed Intrinsic Value with the non-Sprint-Speed Intrinsic Value\n",
        "\n",
        "The primary objective of this study was to address the concern raised by Healey <span style=\"font-size:0.85em;\">(Healey 2017)</span>, which pointed out that the intrinsic-value model $I_{ns}$ often produces large $O-I$ values for fast runners and small $O-I$ values for slower runners. Here, $O$ refers to the outcome statistic wOBA on contact, or $wOBA_{con}$. By introducing sprint speed as an additional parameter in calculating $I_s$, the aim was to preserve both the accuracy and reliability of the $I_{ns}$ model while eliminating the bias of undervaluing fast runners and overvaluing slower ones in terms of $O-I$. This section presents a comparison of the accuracy, reliability, and $O-I$ values of $I_{ns}$ and $I_s$.\n",
        "\n",
        "---\n",
        "\n",
        "### 6.1 Accuracy\n",
        "\n",
        "One would generally expect the intrinsic value of a batted ball to closely match the actual outcome value, $wOBA_{con}$. If there is a notable difference between $wOBA_{con}$ and $I$ values across a large group of hitters, then the intrinsic-value model may be inaccurate. To quantify this, the **mean absolute deviation** between $O$ and $I$ is used:\n",
        "\n",
        "$MAD \\;=\\; \\dfrac{1}{K}\\,\\sum_{j=1}^{K}\\; \\bigl|\\,I_j - O_j\\bigr|,$\n",
        "\n",
        "where $K$ is the number of batters, $I_j$ is the $j^{\\text{th}}$ batter’s intrinsic value, and $O_j$ is the $j^{\\text{th}}$ batter’s $wOBA_{con}$. Using 2024 batted-ball data, the $I_{ns}$ values produced a MAD of approximately **0.0132**, while the $I_s$ values had a MAD of about **0.0115**. This indicates that the sprint-speed-adjusted intrinsic value is at least as accurate—if not slightly more accurate—than the non-sprint-speed version. Hence, incorporating sprint speed preserves (and even improves) the accuracy of the original $I_{ns}$, achieving one of the primary objectives of this work.\n"
      ],
      "metadata": {
        "id": "53i8hGMyMF_U"
      }
    },
    {
      "cell_type": "markdown",
      "source": [
        "### 6.2  $O\\!-\\!I$ Comparisons\n",
        "\n",
        "The final objective of incorporating sprint speed into the intrinsic-value calculation was to avoid **underestimating fast runners** and **overestimating slow runners**. Healey’s 2014 analysis showed that most of the top-ten highest $O-I$ values came from players with above-average running speed, while the ten smallest $O-I$ values all came from below-average runners <span style=\"font-size:0.85em;\">(Healey 2017)</span>. A comparable trend is observed among 2024 hitters.  \n",
        "Considering only players with at least **400** batted balls *and* available sprint-speed data, the ten largest $O-I_{ns}$ and ten smallest $O-I_{ns}$ are listed below.\n",
        "\n",
        "#### Table 1 — Largest $O\\!-\\!I_{ns}$\n",
        "\n",
        "| Name | $O\\!-\\!I_{ns}$ | Sprint Speed (ft s$^{-1}$) |\n",
        "|------|--------------:|---------------------------:|\n",
        "| Rodríguez, Julio | 0.036 | 29.6 |\n",
        "| Ohtani, Shohei  | 0.034 | 28.1 |\n",
        "| Rooker, Brent   | 0.034 | 27.6 |\n",
        "| Cruz, Oneil     | 0.034 | 28.8 |\n",
        "| Suzuki, Seiya   | 0.033 | 28.3 |\n",
        "| O’Hoppe, Logan  | 0.031 | 28.1 |\n",
        "| Devers, Rafael  | 0.031 | 26.5 |\n",
        "| Ramos, Heliot   | 0.030 | 27.9 |\n",
        "| Doyle, Brenton  | 0.029 | 29.3 |\n",
        "| Schwarber, Kyle | 0.029 | 25.8 |\n",
        "\n",
        "*Largest $O-I_{ns}$*  \n",
        "\n",
        "Note that the average sprint speed in 2024 was ≈ 27 ft s$^{-1}$. All but two batters in the highest $O-I_{ns}$ list have above-average sprint speed.\n",
        "\n",
        "#### Table 2 — Smallest $O\\!-\\!I_{ns}$\n",
        "\n",
        "| Name | $O\\!-\\!I_{ns}$ | Sprint Speed (ft s$^{-1}$) |\n",
        "|------|--------------:|---------------------------:|\n",
        "| Paredes, Isaac | −0.052 | 25.9 |\n",
        "| Arenado, Nolan | −0.025 | 25.3 |\n",
        "| Varsho, Daulton| −0.025 | 28.5 |\n",
        "| Arcia, Orlando | −0.020 | 25.6 |\n",
        "| Altuve, Jose   | −0.018 | 27.1 |\n",
        "| Ramírez, José  | −0.016 | 28.2 |\n",
        "| France, Ty     | −0.016 | 25.1 |\n",
        "| Bell, Josh     | −0.015 | 25.4 |\n",
        "| Winn, Masyn    | −0.013 | 28.8 |\n",
        "| Bohm, Alec     | −0.011 | 26.3 |\n",
        "\n",
        "*Smallest $O-I_{ns}$*  \n",
        "\n",
        "All hitters with the smallest $O-I_{ns}$ values have **below-average** sprint speed, mirroring Healey’s 2014 findings.\n",
        "\n",
        "---\n",
        "\n",
        "The primary goal of adding sprint speed to the intrinsic-value calculation was to stop *overrating slow runners* and *underrating fast runners*. The ten players in 2024 with the largest and smallest $O-I_{s}$ values are shown below.\n",
        "\n",
        "#### Table 3 — Largest $O\\!-\\!I_{s}$\n",
        "\n",
        "| Name | $O\\!-\\!I_{s}$ | Sprint Speed (ft s$^{-1}$) |\n",
        "|------|-------------:|---------------------------:|\n",
        "| Perez, Salvador     | 0.042 | 24.5 |\n",
        "| Ozuna, Marcell      | 0.033 | 25.7 |\n",
        "| Devers, Rafael      | 0.032 | 26.5 |\n",
        "| Morel, Christopher  | 0.032 | 27.3 |\n",
        "| Rooker, Brent       | 0.029 | 27.6 |\n",
        "| Sánchez, Jesús      | 0.028 | 27.2 |\n",
        "| Schwarber, Kyle     | 0.025 | 25.8 |\n",
        "| Rodríguez, Julio    | 0.025 | 29.6 |\n",
        "| Marte, Ketel        | 0.025 | 27.1 |\n",
        "| Ohtani, Shohei      | 0.023 | 28.1 |\n",
        "\n",
        "*Largest $O-I_{s}$*  \n",
        "\n",
        "Compared to the $O-I_{ns}$ list, four below-average runners now appear, indicating reduced bias.\n",
        "\n",
        "#### Table 4 — Smallest $O\\!-\\!I_{s}$\n",
        "\n",
        "| Name | $O\\!-\\!I_{s}$ | Sprint Speed (ft s$^{-1}$) |\n",
        "|------|-------------:|---------------------------:|\n",
        "| Paredes, Isaac   | −0.048 | 25.9 |\n",
        "| Varsho, Daulton  | −0.038 | 28.5 |\n",
        "| Winn, Masyn      | −0.026 | 28.8 |\n",
        "| Ramírez, José    | −0.025 | 28.2 |\n",
        "| Young, Jacob     | −0.020 | 29.7 |\n",
        "| Altuve, Jose     | −0.020 | 27.1 |\n",
        "| Semien, Marcus   | −0.020 | 28.5 |\n",
        "| Turner, Trea     | −0.019 | 29.6 |\n",
        "| Arenado, Nolan   | −0.015 | 25.3 |\n",
        "| Steer, Spencer   | −0.014 | 28.2 |\n",
        "\n",
        "*Smallest $O-I_{s}$*  \n",
        "\n",
        "While $I_s$ still underrates some fast runners, the bias is reduced: the average of the top-ten $O-I_{s}$ values is **0.0294** versus **0.0321** for $O-I_{ns}$.  \n",
        "For slow runners, $I_s$ overrates fewer players but by a slightly larger margin on average (**−0.0245** vs **−0.0211**).\n",
        "\n",
        "> **Summary:** Incorporating sprint speed into the intrinsic-value model mitigates—but does not entirely eliminate—the systematic $O-I$ bias observed in the original $I_{ns}$ statistic.\n"
      ],
      "metadata": {
        "id": "O5gAWDA8NZDv"
      }
    },
    {
      "cell_type": "markdown",
      "source": [
        "The ten players with the highest $O-I_s$ values are changed somewhat with newly added players, keeping **Julio Rodríguez, Shohei Ohtani, Brent Rooker, Rafael Devers, Kyle Schwarber**. With these new additions, there are now **four below-average runners** in the top-ten rather than two, as in the $O-I_{ns}$ list. It is worth noting that the only player who plays in a hitter-friendly ballpark—**Brenton Doyle**—is removed from the $O-I_s$ list and is an above-average runner.  \n",
        "\n",
        "Overall, even the sprint-speed intrinsic value tends to **underrate fast runners**, but it does so **less** than $I_{ns}$. The average $O-I_s$ among the top ten is **0.0294**, whereas the average $O-I_{ns}$ is **0.0321**. Thus, although $I_s$ still underestimates fast runners, it does so to a smaller degree than $I_{ns}$—a slight improvement.\n",
        "\n",
        "The top-ten smallest $O-I_s$ list differs slightly from its $O-I_{ns}$ counterpart. Unlike the $O-I_{ns}$ list, several players in the $O-I_s$ list are **not** below-average sprinters. The only below-average runners listed are **Isaac Paredes** and **Nolan Arenado**; the rest are above-average runners, all with small $O-I_s$ values. This suggests improvement in avoiding over-rating slow runners in $I_s$. However, the $O-I_s$ list **overvalues** these players by a larger amount on average than the $O-I_{ns}$ list: the bottom-ten $O-I_{ns}$ average is $-0.0211$, while the bottom-ten $O-I_s$ average is $-0.0245$. Therefore, $I_s$ overrates slow runners **less often** than $I_{ns}$, but when it does, it tends to overrate them by a slightly **larger margin**.\n"
      ],
      "metadata": {
        "id": "kv9aHLN_NZFr"
      }
    },
    {
      "cell_type": "markdown",
      "source": [
        "## 7 · Conclusion\n",
        "\n",
        "This project replicated and extended the work of <span style=\"font-size:0.85em;\">Melville 2019</span>, applying his methodology to **2024 MLB** data. Two models were evaluated:\n",
        "\n",
        "* **$I_{ns}$** — the original intrinsic-value model that maps a batted ball’s speed, vertical angle, and horizontal angle to an intrinsic value.  \n",
        "* **$I_s$** — the updated model that additionally incorporates batter sprint speed.\n",
        "\n",
        "The sprint-speed-enhanced model $I_s$ achieved a slightly better **mean absolute deviation (MAD)** than $I_{ns}$ ( 0.0115  vs  0.0132 ), confirming that sprint speed preserved or improved accuracy. **Cronbach’s alpha** showed that both $I_{ns}$ and $I_s$ maintained similar—and superior—reliability compared with the outcomes-based statistic $O$ (wOBA con).\n",
        "\n",
        "Analysis of $O-I$ values across players indicated that $I_s$ reduced the systematic bias observed in $I_{ns}$. Specifically,\n",
        "\n",
        "- the average $O-I$ among the ten **most underrated** players decreased from **0.0321** ($I_{ns}$) to **0.0294** ($I_s$);  \n",
        "- the average $O-I$ among the ten **most overrated** players improved from **−0.030** to **−0.024**.\n",
        "\n",
        "Although $I_s$ still shows a slight tendency to underrate fast runners and overrate slow runners, the magnitude of this bias is appreciably smaller than in $I_{ns}$.\n",
        "\n",
        "Visualizations—such as the **wOBA cube** and **wOBA tesseract**—confirmed that faster runners benefit more on specific types of batted balls, particularly ground balls along the baselines. However, sample-size limitations at extreme sprint speeds introduce some inconsistencies. Overall, by extending the intrinsic-value model to account for sprint speed, a more **equitable evaluation** of hitter performance has been achieved.\n"
      ],
      "metadata": {
        "id": "Q6yDi7kRNZHp"
      }
    },
    {
      "cell_type": "markdown",
      "source": [
        "## 8 · Future Work\n",
        "\n",
        "Several directions for future improvements are planned:\n",
        "\n",
        "- **Variable Selection:** As more detailed Statcast data become available, we aim to partition datasets more selectively, using only variables most relevant to predicting intrinsic value. This could include context-specific features such as batted-ball spin rate or fielder positioning, rather than using every available variable uniformly.\n",
        "\n",
        "- **Dimensionality Management:** Incorporating additional variables raises concerns about data sparsity. Future work will focus on balancing model complexity by selectively including only the most impactful features—possibly through feature-selection algorithms or dimensionality-reduction techniques such as PCA.\n",
        "\n",
        "- **Non-Diagonal Covariance Structures:** The current model assumes independent dimensions in the KDE kernel (diagonal covariance matrices). Relaxing this assumption could better capture correlations between variables such as launch angle and sprint speed, potentially improving model accuracy and reliability.\n",
        "\n",
        "- **Alternative Sprint-Speed Metrics:** The model currently uses Statcast’s sprint speed (feet per second in the fastest one-second window). Future versions will experiment with more accessible metrics—e.g., home-to-first time—making the model easier to apply to amateur or non-MLB players.\n",
        "\n",
        "- **Updated Datasets:** As MLB continues to expand Statcast tracking, incorporating data from the 2025 season and beyond will be crucial to validate and refine the model, allowing us to test its generalizability and stability over time.\n",
        "\n",
        "By selectively managing input variables and relaxing restrictive modeling assumptions, future iterations aim to further enhance the fairness, accuracy, and applicability of intrinsic-value models in baseball analytics.\n"
      ],
      "metadata": {
        "id": "9wIqRinoP5B3"
      }
    },
    {
      "cell_type": "markdown",
      "source": [
        "## 9 · References\n",
        "\n",
        "1. Melville, W. (2019). *Including batter sprint speed in the calculation of the intrinsic value of a batted ball*.\n",
        "\n",
        "2. Healey, G. (2017). Learning, visualizing, and assessing a model for the intrinsic value of a batted ball. *IEEE Access, 5*, 13811–13822.\n",
        "\n",
        "3. Healey, G. (2016). Learning, visualizing, and exploiting a model for the intrinsic value of a batted ball. *arXiv* preprint arXiv:1603.00050.\n",
        "\n",
        "4. Slowinski, S. (2010). *wOBA*. In *WOBA — Sabermetrics Library*.\n",
        "\n",
        "5. **Baseball Savant.** <https://baseballsavant.mlb.com>\n",
        "\n",
        "6. LeDoux, J. (2024). *pybaseball: An open-source package for baseball data analysis.* <https://github.com/jldbc/pybaseball>\n",
        "\n",
        "7. **wOBA Constants.** FanGraphs. <https://www.fangraphs.com/guts.aspx?type=cn>\n",
        "\n",
        "8. Tango, T. M., Lichtman, M. G., & Dolphin, A. E. (2007). *The Book: Playing the Percentages in Baseball.* Potomac Books.\n",
        "\n",
        "9. **MLB Glossary — Error (E).** <http://m.mlb.com/glossary/standard-stats/error>\n"
      ],
      "metadata": {
        "id": "E-WDrzxUQOSV"
      }
    },
    {
      "cell_type": "markdown",
      "source": [
        "### 0. Imports"
      ],
      "metadata": {
        "id": "7uQRUmbsVVKo"
      }
    },
    {
      "cell_type": "code",
      "source": [
        "\n",
        "# ================================================================\n",
        "# Intrinsic Value + Sprint Speed  —  Full Repro (month‑by‑month pull)\n",
        "# ================================================================\n",
        "# If you're in Colab, uncomment the next line once per session:\n",
        "!pip install --quiet --upgrade pybaseball seaborn\n",
        "\n",
        "import pybaseball as bb\n",
        "import pandas as pd\n",
        "import numpy as np\n",
        "import matplotlib.pyplot as plt\n",
        "import seaborn as sns\n",
        "from scipy.optimize import differential_evolution\n",
        "from datetime import date, timedelta\n",
        "\n",
        "sns.set(style=\"whitegrid\")\n",
        "pd.set_option(\"mode.chained_assignment\", None)\n"
      ],
      "metadata": {
        "id": "0jUHuXupUjVx"
      },
      "execution_count": null,
      "outputs": []
    },
    {
      "cell_type": "markdown",
      "source": [
        "### 1. Robust data download\n"
      ],
      "metadata": {
        "id": "eCkKS4uFVa8A"
      }
    },
    {
      "cell_type": "code",
      "source": [
        "\n",
        "# ------------------------------------------------------------------\n",
        "# 0.1  Data Mining & Cleaning — robust month‑by‑month download\n",
        "# ------------------------------------------------------------------\n",
        "def safe_statcast_range(start_dt: str, end_dt: str, **kwargs) -> pd.DataFrame:\n",
        "    \"\"\"Download Statcast data month‑by‑month; skip chunks that error.\"\"\"\n",
        "    out_frames = []\n",
        "    cur = pd.to_datetime(start_dt).date().replace(day=1)\n",
        "    final = pd.to_datetime(end_dt).date()\n",
        "    while cur <= final:\n",
        "        nxt = (cur.replace(day=28) + timedelta(days=4)).replace(day=1) - timedelta(days=1)\n",
        "        nxt = min(nxt, final)\n",
        "        try:\n",
        "            chunk = bb.statcast(cur.isoformat(), nxt.isoformat(), **kwargs)\n",
        "            print(f\"✔ {cur} → {nxt}  ({len(chunk):,} rows)\")\n",
        "            out_frames.append(chunk)\n",
        "        except Exception as e:\n",
        "            print(f\"✖ {cur} → {nxt}  skipped — {e}\")\n",
        "        cur = (nxt + timedelta(days=1)).replace(day=1)\n",
        "    if not out_frames:\n",
        "        raise RuntimeError(\"No months downloaded — check connection or dates.\")\n",
        "    return pd.concat(out_frames, ignore_index=True)\n",
        "\n",
        "print(\"↳ Pulling Statcast 2024 season …\")\n",
        "df = safe_statcast_range(\"2024-03-01\", \"2024-11-01\")\n",
        "\n",
        "print(\"↳ Sprint‑speed leaderboard …\")\n",
        "sprints = bb.statcast_sprint_speed(2024)\n"
      ],
      "metadata": {
        "id": "YNA0vs-xU3eN"
      },
      "execution_count": null,
      "outputs": []
    },
    {
      "cell_type": "markdown",
      "source": [
        "### 2. Cleaning & merges\n"
      ],
      "metadata": {
        "id": "zFkDPADhVfOl"
      }
    },
    {
      "cell_type": "code",
      "source": [
        "\n",
        "# Keep only balls in play\n",
        "df = df[df['description'] == 'hit_into_play'].copy()\n",
        "\n",
        "# Horizontal launch angle (hla)\n",
        "df['hla'] = np.degrees(np.arctan2(df['hc_x'] - 128, 208 - df['hc_y'])).clip(-45, 45)\n",
        "\n",
        "# Rename wOBA‑on‑contact\n",
        "df.rename(columns={'estimated_woba_using_speedangle': 'wobacon'}, inplace=True)\n",
        "\n",
        "# Map events to six categories\n",
        "event_map = {\n",
        "    'field_out':'out','grounded_into_double_play':'out','force_out':'out',\n",
        "    'sac_fly':'out','sac_bunt':'out','fielders_choice':'out','fielders_choice_out':'out',\n",
        "    'double_play':'out','triple_play':'out','sac_fly_double_play':'out',\n",
        "    'single':'single','double':'double','triple':'triple','home_run':'home run',\n",
        "    'field_error':'error'\n",
        "}\n",
        "df['events'] = df['events'].replace(event_map)\n",
        "\n",
        "# Merge sprint speed\n",
        "df = df.merge(sprints[['player_id','sprint_speed']],\n",
        "              left_on='batter', right_on='player_id', how='left')       .drop(columns='player_id')\n",
        "\n",
        "# Plate appearances computed on‑the‑fly\n",
        "pa_lookup = df.groupby('batter').size().reset_index(name='pa')\n",
        "df = df.merge(pa_lookup, on='batter', how='left')\n",
        "\n",
        "# Filter regular hitters\n",
        "df = df[df['pa'] >= 500].dropna()\n",
        "\n",
        "print(f\"Rows after cleaning: {len(df):,}\")\n"
      ],
      "metadata": {
        "id": "jS0lbbX5U8R8"
      },
      "execution_count": null,
      "outputs": []
    },
    {
      "cell_type": "markdown",
      "source": [
        "### 3. KDE helpers\n"
      ],
      "metadata": {
        "id": "36L_v6fnVgGl"
      }
    },
    {
      "cell_type": "code",
      "source": [
        "\n",
        "# ------------------------------------------------------------------\n",
        "# Helper functions for KDE/Bayesian intrinsic calculation\n",
        "# ------------------------------------------------------------------\n",
        "def vectorized_gaussian_kernel(x, train, sigma):\n",
        "    diff = (train - x) / sigma\n",
        "    exp = -0.5 * np.sum(diff**2, axis=1)\n",
        "    norm = (2*np.pi)**(x.size/2) * np.prod(sigma)\n",
        "    return np.exp(exp)/norm\n",
        "\n",
        "def pseudo_ll(train, val, sigma):\n",
        "    vals = np.array([vectorized_gaussian_kernel(v, train, sigma) for v in val])\n",
        "    p = np.mean(vals, axis=1)\n",
        "    p[p<=0] = 1e-12\n",
        "    return np.sum(np.log(p))\n",
        "\n",
        "def optimise_bw(data, bounds, kfold=2):\n",
        "    if data.size == 0:\n",
        "        return np.ones(len(bounds))\n",
        "    idx = np.arange(len(data))\n",
        "    splits = np.array_split(idx, kfold)\n",
        "    sigmas=[]\n",
        "    for val_idx in splits:\n",
        "        train_idx = np.setdiff1d(idx, val_idx)\n",
        "        res = differential_evolution(\n",
        "            lambda s: -pseudo_ll(data[train_idx], data[val_idx], s),\n",
        "            bounds=[bounds]*data.shape[1], strategy='best1bin', tol=1e-2, disp=False\n",
        "        )\n",
        "        sigmas.append(res.x)\n",
        "        print(f\"σ = {res.x.round(2)}  LL={-res.fun:.1f}\")\n",
        "    return np.mean(sigmas, axis=0)\n",
        "\n",
        "def likelihood_batch(X, data, sigma):\n",
        "    diff = (X[:,None,:]-data)/sigma\n",
        "    exp = -0.5*np.sum(diff**2, axis=2)\n",
        "    norm = (2*np.pi)**(X.shape[1]/2)*np.prod(sigma)\n",
        "    return np.mean(np.exp(exp)/norm, axis=1)\n",
        "\n",
        "def intrinsic_batch(X, outcome_data, sigma_map, priors, weights, outcomes):\n",
        "    numer = {o: likelihood_batch(X, outcome_data[o], sigma_map[o]) * priors[o]\n",
        "             for o in outcomes}\n",
        "    p = np.sum(list(numer.values()), axis=0)\n",
        "    p[p<=0] = 1e-12\n",
        "    post = {o: numer[o]/p for o in outcomes}\n",
        "    return np.sum([weights[o]*post[o] for o in outcomes], axis=0)\n"
      ],
      "metadata": {
        "id": "oY8RqDqUVHBc"
      },
      "execution_count": null,
      "outputs": []
    },
    {
      "cell_type": "markdown",
      "source": [
        "### 4. 3‑D model\n"
      ],
      "metadata": {
        "id": "0GHiLfCSVmoR"
      }
    },
    {
      "cell_type": "code",
      "source": [
        "\n",
        "outcomes = ['out','single','double','triple','home run','error']\n",
        "weights = {'out':0.0,'single':0.882,'double':1.254,'triple':1.590,'home run':2.050,'error':0.92}\n",
        "priors  = {o: len(df[df['events']==o])/len(df) for o in outcomes}\n",
        "\n",
        "features3=['launch_speed','launch_angle','hla']\n",
        "outcome_data3={o: df[df['events']==o][features3].to_numpy() for o in outcomes}\n",
        "\n",
        "print(\"\\nOptimising 3‑D bandwidths …\")\n",
        "sigma3 = {o: optimise_bw(outcome_data3[o], (0.5,10.0)) for o in outcomes}\n",
        "\n",
        "X3=df[features3].to_numpy()\n",
        "batch=1000\n",
        "df['intrinsic_value']=np.concatenate([\n",
        "    intrinsic_batch(X3[i:i+batch], outcome_data3, sigma3, priors, weights, outcomes)\n",
        "    for i in range(0,len(X3),batch)\n",
        "])\n"
      ],
      "metadata": {
        "id": "MqtuGE1BVJle"
      },
      "execution_count": null,
      "outputs": []
    },
    {
      "cell_type": "markdown",
      "source": [
        "### 5. 4‑D model\n"
      ],
      "metadata": {
        "id": "Bt2q4zg6VoiH"
      }
    },
    {
      "cell_type": "code",
      "source": [
        "\n",
        "features4=['launch_speed','launch_angle','hla','sprint_speed']\n",
        "outcome_data4={o: df[df['events']==o][features4].to_numpy() for o in outcomes}\n",
        "print(\"\\nOptimising 4‑D bandwidths …\")\n",
        "sigma4 = {o: optimise_bw(outcome_data4[o], (0.5,15.0), kfold=5) for o in outcomes}\n",
        "\n",
        "X4=df[features4].to_numpy()\n",
        "df['intrinsic_sprint_value']=np.concatenate([\n",
        "    intrinsic_batch(X4[i:i+batch], outcome_data4, sigma4, priors, weights, outcomes)\n",
        "    for i in range(0,len(X4),batch)\n",
        "])\n"
      ],
      "metadata": {
        "id": "ENsh-lDhVLg3"
      },
      "execution_count": null,
      "outputs": []
    },
    {
      "cell_type": "markdown",
      "source": [
        "### 6. Accuracy check\n"
      ],
      "metadata": {
        "id": "PnvOjnGOVrUp"
      }
    },
    {
      "cell_type": "code",
      "source": [
        "\n",
        "batter = (\n",
        "    df.groupby('batter')\n",
        "      .agg(woba=('wobacon','mean'),\n",
        "           Ins=('intrinsic_value','mean'),\n",
        "           Is=('intrinsic_sprint_value','mean'))\n",
        "      .reset_index()\n",
        ")\n",
        "print(\"MAD (no sprint):  \", np.abs(batter['woba']-batter['Ins']).mean().round(4))\n",
        "print(\"MAD (with sprint):\", np.abs(batter['woba']-batter['Is']).mean().round(4))\n"
      ],
      "metadata": {
        "id": "3VkKWMc4VNS-"
      },
      "execution_count": null,
      "outputs": []
    },
    {
      "cell_type": "markdown",
      "source": [
        "### 7. Quick plot\n"
      ],
      "metadata": {
        "id": "ZWnSHSOAVudI"
      }
    },
    {
      "cell_type": "code",
      "source": [
        "\n",
        "sns.scatterplot(x='intrinsic_value',y='intrinsic_sprint_value',\n",
        "                data=df.sample(min(3000,len(df))),alpha=0.3)\n",
        "plt.xlabel('Intrinsic value (3‑D)')\n",
        "plt.ylabel('Intrinsic value (4‑D with sprint)')\n",
        "plt.title('Per‑ball intrinsic values, 2024 season')\n",
        "plt.show()\n"
      ],
      "metadata": {
        "id": "5nmzhdHGVPw4"
      },
      "execution_count": null,
      "outputs": []
    },
    {
      "cell_type": "code",
      "source": [
        "\n",
        "!apt-get -qq install poppler-utils\n",
        "!pip install -q pdf2image\n",
        "import os, pathlib, shutil, json, textwrap\n",
        "from pdf2image import convert_from_path\n",
        "\n",
        "PDF_PATH   = '/content/MAT 421 Final Project.pdf'\n",
        "OUT_DIR    = '/content/pdf_pages'\n",
        "IMG_PREFIX = 'page'\n",
        "if os.path.exists(OUT_DIR):\n",
        "    shutil.rmtree(OUT_DIR)\n",
        "os.makedirs(OUT_DIR, exist_ok=True)\n",
        "\n",
        "pages = convert_from_path(PDF_PATH, dpi=200, fmt='png')\n",
        "for idx, page in enumerate(pages, 1):\n",
        "    fname = f'{IMG_PREFIX}_{idx:03}.png'\n",
        "    page.save(os.path.join(OUT_DIR, fname), 'PNG')\n",
        "\n",
        "print(f'✅  {len(pages)} pages saved to', OUT_DIR)\n"
      ],
      "metadata": {
        "id": "uo8e6C4ZTK8c"
      },
      "execution_count": null,
      "outputs": []
    },
    {
      "cell_type": "code",
      "source": [
        "from IPython.display import Image, display, Markdown\n",
        "import pathlib, glob\n",
        "\n",
        "for img in sorted(glob.glob('/content/pdf_pages/page_*.png')):\n",
        "    display(Markdown(f'### {pathlib.Path(img).stem}'))\n",
        "    display(Image(img))"
      ],
      "metadata": {
        "id": "qYAbb6tZUGzl"
      },
      "execution_count": null,
      "outputs": []
    }
  ]
}